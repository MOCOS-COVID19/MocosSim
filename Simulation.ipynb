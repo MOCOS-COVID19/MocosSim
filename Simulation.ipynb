{
 "cells": [
  {
   "cell_type": "code",
   "execution_count": 1,
   "metadata": {},
   "outputs": [
    {
     "data": {
      "text/plain": [
       "4-element Array{String,1}:\n",
       " \"@\"\n",
       " \"@v#.#\"\n",
       " \"@stdlib\"\n",
       " \"julia/src\""
      ]
     },
     "execution_count": 1,
     "metadata": {},
     "output_type": "execute_result"
    }
   ],
   "source": [
    "#push!(LOAD_PATH,\"julia/src\")\n",
    "#import Simulation"
   ]
  },
  {
   "cell_type": "code",
   "execution_count": 18,
   "metadata": {},
   "outputs": [
    {
     "data": {
      "text/plain": [
       "0x00"
      ]
     },
     "execution_count": 18,
     "metadata": {},
     "output_type": "execute_result"
    }
   ],
   "source": [
    "0x0"
   ]
  },
  {
   "cell_type": "code",
   "execution_count": 230,
   "metadata": {},
   "outputs": [
    {
     "name": "stderr",
     "output_type": "stream",
     "text": [
      "WARNING: replacing module Simulation.\n"
     ]
    },
    {
     "data": {
      "text/plain": [
       "Main.Simulation"
      ]
     },
     "execution_count": 230,
     "metadata": {},
     "output_type": "execute_result"
    }
   ],
   "source": [
    "include(\"julia/src/Simulation.jl\") # might need some time to compile"
   ]
  },
  {
   "cell_type": "code",
   "execution_count": 231,
   "metadata": {},
   "outputs": [
    {
     "data": {
      "text/plain": [
       "Main.Simulation.Progression(Main.Simulation.Severe, 9.0f0, NaN32, 9.5f0)"
      ]
     },
     "metadata": {},
     "output_type": "display_data"
    },
    {
     "data": {
      "text/plain": [
       "(0x00000001, 0x00000001)"
      ]
     },
     "metadata": {},
     "output_type": "display_data"
    }
   ],
   "source": [
    "using Random\n",
    "#loads and pre-processes data that is constant during the simulation time\n",
    "params = Simulation.load_params(\n",
    "    MersenneTwister(3),\n",
    "    population_path=\"data/simulations/wroclaw-population-orig.csv.gz\", \n",
    "    incubation_time_samples_path=\"test/models/assets/incubation_period_distribution.npy\", \n",
    "    t0_to_t1_samples_path=\"test/models/assets/t1_distribution.npy\",\n",
    "    t0_to_t2_samples_path=\"test/models/assets/t1_t2_distribution.npy\");\n",
    "\n",
    "params.progressions[1] |> display\n",
    "params.household_ptrs[1] |> display"
   ]
  },
  {
   "cell_type": "code",
   "execution_count": 237,
   "metadata": {
    "scrolled": false
   },
   "outputs": [
    {
     "name": "stdout",
     "output_type": "stream",
     "text": [
      "Main.Simulation.OutsideInfectionEvent(0.0f0, 0x00000001)true\n",
      "Main.Simulation.BecomeInfectiousEvent(9.0f0, 0x00000001)true\n",
      "Main.Simulation.TransmissionEvent(9.336979f0, 0x000781a0, 0x00000001, Main.Simulation.ConstantKernelContact)true\n",
      "Main.Simulation.SevereSymptomsEvent(9.5f0, 0x00000001)true\n",
      "Main.Simulation.GoHospitalEvent(9.5f0, 0x00000001)true\n",
      "Main.Simulation.DetectedEvent(9.5f0, 0x00000001, false)true\n",
      "Main.Simulation.BackTrackedEvent(11.5f0, 0x000781a0)true\n",
      "Main.Simulation.QuarantinedEvent(11.5f0, 0x000781a0)true\n",
      "Main.Simulation.QuarantinedEvent(11.5f0, 0x000781a0)false\n",
      "Main.Simulation.QuarantinedEvent(11.5f0, 0x000781a0)false\n",
      "Main.Simulation.QuarantinedEvent(11.5f0, 0x000781a0)false\n",
      "Main.Simulation.BecomeInfectiousEvent(14.336979f0, 0x000781a0)true\n",
      "Main.Simulation.TransmissionEvent(14.690809f0, 0x0004fe6d, 0x000781a0, Main.Simulation.ConstantKernelContact)true\n",
      "Main.Simulation.TransmissionEvent(16.24155f0, 0x0008fc6b, 0x000781a0, Main.Simulation.ConstantKernelContact)true\n",
      "Main.Simulation.BecomeInfectiousEvent(17.24155f0, 0x0008fc6b)true\n",
      "Main.Simulation.TransmissionEvent(17.382084f0, 0x0008fc6c, 0x0008fc6b, Main.Simulation.HouseholdContact)true\n",
      "Main.Simulation.MildSymptomsEvent(17.586979f0, 0x000781a0)true\n",
      "Main.Simulation.HomeTreatmentEvent(17.586979f0, 0x000781a0)true\n",
      "Main.Simulation.SevereSymptomsEvent(17.74155f0, 0x0008fc6b)true\n",
      "Main.Simulation.GoHospitalEvent(17.74155f0, 0x0008fc6b)true\n",
      "Main.Simulation.DetectedEvent(17.74155f0, 0x0008fc6b, false)true\n"
     ]
    },
    {
     "data": {
      "text/plain": [
       "4-element Array{UInt32,1}:\n",
       " 0x000781a0\n",
       " 0x000781a1\n",
       " 0x000781a2\n",
       " 0x000781a3"
      ]
     },
     "execution_count": 237,
     "metadata": {},
     "output_type": "execute_result"
    }
   ],
   "source": [
    "state = Simulation.SimState(params.progressions |> length, seed=123)\n",
    "\n",
    "push!(state.queue, Simulation.OutsideInfectionEvent(0.0,1))\n",
    "\n",
    "for iter  in 0:20\n",
    "    #println(\"iteration=$iter\")\n",
    "    if isempty(state.queue)\n",
    "        @info \"Empty queue after $iter events\"\n",
    "        break\n",
    "    end\n",
    "    #state.individuals[1] |> display\n",
    "    #state.individuals[491936] |> display\n",
    "    event = pop!(state.queue)\n",
    "    state.time = Simulation.time(event)\n",
    "    event |> print\n",
    "    result = Simulation.execute!(state, params, event)\n",
    "    result |> println\n",
    "    \n",
    "end\n",
    "\n",
    "id = 0x000781a0\n",
    "state.individuals[id]\n",
    "Simulation.householdof(params, id) |> collect"
   ]
  },
  {
   "cell_type": "code",
   "execution_count": 73,
   "metadata": {},
   "outputs": [
    {
     "data": {
      "text/plain": [
       "Main.Simulation.IndividualState(Main.Simulation.Healthy, Main.Simulation.Free, 0, false)"
      ]
     },
     "execution_count": 73,
     "metadata": {},
     "output_type": "execute_result"
    }
   ],
   "source": [
    "state.individuals[491936]"
   ]
  },
  {
   "cell_type": "code",
   "execution_count": 52,
   "metadata": {},
   "outputs": [
    {
     "ename": "UndefVarError",
     "evalue": "UndefVarError: params_id not defined",
     "output_type": "error",
     "traceback": [
      "UndefVarError: params_id not defined",
      "",
      "Stacktrace:",
      " [1] severityof(::Main.Simulation.SimParams, ::UInt32) at /Users/tomek/modelling-ncov2019/julia/src/simparams.jl:48",
      " [2] execute!(::Main.Simulation.SimState, ::Main.Simulation.SimParams, ::Main.Simulation.GoHospitalEvent) at /Users/tomek/modelling-ncov2019/julia/src/event_execution.jl:177",
      " [3] simulate!(::Main.Simulation.SimState, ::Main.Simulation.SimParams) at /Users/tomek/modelling-ncov2019/julia/src/Simulation.jl:88",
      " [4] macro expansion at ./util.jl:175 [inlined]",
      " [5] top-level scope at ./In[52]:6"
     ]
    }
   ],
   "source": [
    "## creates mutable simulation state\n",
    "state = Simulation.SimState(params.progressions |> length, seed=123)\n",
    "\n",
    "# add initial event (infect the person no1 at time 0)\n",
    "push!(state.queue, Simulation.OutsideInfectionEvent(0.0,1))\n",
    "# (the first person must be infectious for significant amount of time for the epidemics to kick off)\n",
    "\n",
    "# the first run includes compilation time, run twice to get meaningful results (precompilation will be added soon)\n",
    "@time Simulation.simulate!(state, params)\n"
   ]
  },
  {
   "cell_type": "code",
   "execution_count": 279,
   "metadata": {
    "scrolled": true
   },
   "outputs": [
    {
     "data": {
      "text/plain": [
       "Main.Simulation.TransmissionEvent(18.69558f0, 491936, 1, Main.Simulation.ConstantKernelContact)"
      ]
     },
     "execution_count": 279,
     "metadata": {},
     "output_type": "execute_result"
    }
   ],
   "source": [
    "using DataStructures\n",
    "i1, i2 = searchequalrange(state.infections, 1)\n",
    "state.infections[i1]\n"
   ]
  },
  {
   "cell_type": "code",
   "execution_count": 10,
   "metadata": {},
   "outputs": [
    {
     "name": "stdout",
     "output_type": "stream",
     "text": [
      "3 ---> 5\n",
      "3 ---> 6\n"
     ]
    }
   ],
   "source": [
    "infections = SortedMultiDict{Int32,Int32}()\n",
    "push!(infections, 0=>1)\n",
    "push!(infections, 1=>2)\n",
    "push!(infections, 1=>3)\n",
    "push!(infections, 2=>4)\n",
    "push!(infections, 3=>5)\n",
    "push!(infections, 3=>6)\n",
    "for (k,v) in inclusive(infections, searchequalrange(infections, 3)...)\n",
    "    println(\"$k ---> $v\")\n",
    "end"
   ]
  },
  {
   "cell_type": "code",
   "execution_count": null,
   "metadata": {},
   "outputs": [],
   "source": []
  },
  {
   "cell_type": "code",
   "execution_count": 8,
   "metadata": {},
   "outputs": [
    {
     "data": {
      "text/plain": [
       "24"
      ]
     },
     "execution_count": 8,
     "metadata": {},
     "output_type": "execute_result"
    }
   ],
   "source": [
    "inclusive(infections, i1, i2) |> sizeof"
   ]
  }
 ],
 "metadata": {
  "kernelspec": {
   "display_name": "Julia 1.4.0",
   "language": "julia",
   "name": "julia-1.4"
  },
  "language_info": {
   "file_extension": ".jl",
   "mimetype": "application/julia",
   "name": "julia",
   "version": "1.4.0"
  }
 },
 "nbformat": 4,
 "nbformat_minor": 4
}
