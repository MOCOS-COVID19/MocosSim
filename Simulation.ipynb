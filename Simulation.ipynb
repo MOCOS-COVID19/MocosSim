{
 "cells": [
  {
   "cell_type": "code",
   "execution_count": 15,
   "metadata": {},
   "outputs": [],
   "source": [
    "using CSV\n",
    "using DataFrames\n",
    "using DataStructures\n",
    "using Distributions\n",
    "using GZip\n",
    "using JSON\n",
    "using Logging\n",
    "using ProgressMeter\n",
    "using PyPlot\n",
    "using PyCall\n",
    "\n",
    "using Distributions\n",
    "using Random\n",
    "\n",
    "import Base.isless"
   ]
  },
  {
   "cell_type": "code",
   "execution_count": 69,
   "metadata": {},
   "outputs": [
    {
     "data": {
      "text/plain": [
       "DiscreteNonParametric{Float64,Float64,StepRangeLen{Float64,Base.TwicePrecision{Float64},Base.TwicePrecision{Float64}},Array{Float64,1}}(\n",
       "support: 1.0:0.13:6.98\n",
       "p: [0.0011180731038682085, 0.0014276675463293152, 0.0017750528597011682, 0.0021602290439837655, 0.002583196099177109, 0.0030439540252811975, 0.0035425028222960324, 0.004078842490221612, 0.004652973029057937, 0.005264894438805007  …  0.03774178750148563, 0.039449644167644335, 0.04119529170471376, 0.042978730112693944, 0.04479995939158486, 0.046658979541386536, 0.04855579056209895, 0.050490392453722104, 0.05246278521625601, 0.054472968849700674]\n",
       ")\n"
      ]
     },
     "execution_count": 69,
     "metadata": {},
     "output_type": "execute_result"
    }
   ],
   "source": [
    "X = 1:0.13:7\n",
    "P = (X.^2)\n",
    "P ./= sum(P)\n",
    "\n",
    "dist = DiscreteNonParametric(X, P)"
   ]
  },
  {
   "cell_type": "code",
   "execution_count": 89,
   "metadata": {},
   "outputs": [],
   "source": [
    "@enum FRUIT apple=1 orange"
   ]
  },
  {
   "cell_type": "code",
   "execution_count": 111,
   "metadata": {},
   "outputs": [
    {
     "data": {
      "text/plain": [
       "DiscreteNonParametric{Int64,P,Base.OneTo{Int64},Ps} where Ps where P"
      ]
     },
     "execution_count": 111,
     "metadata": {},
     "output_type": "execute_result"
    }
   ],
   "source": [
    "Categorical"
   ]
  },
  {
   "cell_type": "code",
   "execution_count": 83,
   "metadata": {},
   "outputs": [
    {
     "ename": "MethodError",
     "evalue": "MethodError: no method matching DiscreteNonParametric(::Array{Severity,1}, ::Array{Float64,1})\nClosest candidates are:\n  DiscreteNonParametric(!Matched::Ts, ::Ps; check_args) where {T<:Real, P<:Real, Ts<:AbstractArray{T,1}, Ps<:AbstractArray{P,1}} at /Users/tomek/.julia/packages/Distributions/dTXqn/src/univariate/discrete/discretenonparametric.jl:36",
     "output_type": "error",
     "traceback": [
      "MethodError: no method matching DiscreteNonParametric(::Array{Severity,1}, ::Array{Float64,1})\nClosest candidates are:\n  DiscreteNonParametric(!Matched::Ts, ::Ps; check_args) where {T<:Real, P<:Real, Ts<:AbstractArray{T,1}, Ps<:AbstractArray{P,1}} at /Users/tomek/.julia/packages/Distributions/dTXqn/src/univariate/discrete/discretenonparametric.jl:36",
      "",
      "Stacktrace:",
      " [1] top-level scope at In[83]:3"
     ]
    }
   ],
   "source": [
    "X = [Severe, Critical]\n",
    "P = [0.5, 0.5]\n",
    "DiscreteNonParametric(X, P)"
   ]
  },
  {
   "cell_type": "code",
   "execution_count": 100,
   "metadata": {
    "scrolled": true
   },
   "outputs": [
    {
     "name": "stdout",
     "output_type": "stream",
     "text": [
      "  0.023631 seconds (3 allocations: 3.815 MiB)\n"
     ]
    }
   ],
   "source": [
    "@time sample(X, 10^6);"
   ]
  },
  {
   "cell_type": "code",
   "execution_count": 110,
   "metadata": {},
   "outputs": [
    {
     "name": "stdout",
     "output_type": "stream",
     "text": [
      "  0.028416 seconds (2 allocations: 7.629 MiB)\n"
     ]
    }
   ],
   "source": [
    "@time rand(Gamma(1,1), 10^6);"
   ]
  },
  {
   "cell_type": "code",
   "execution_count": 103,
   "metadata": {},
   "outputs": [
    {
     "name": "stdout",
     "output_type": "stream",
     "text": [
      "  0.044631 seconds (9 allocations: 7.632 MiB)\n"
     ]
    }
   ],
   "source": [
    "@time rand(dist, 10^6);"
   ]
  },
  {
   "cell_type": "code",
   "execution_count": 5,
   "metadata": {
    "scrolled": true
   },
   "outputs": [
    {
     "data": {
      "text/html": [
       "<table class=\"data-frame\"><thead><tr><th></th><th>age</th><th>gender</th><th>household_index</th></tr><tr><th></th><th>Int8</th><th>Bool</th><th>Int32</th></tr></thead><tbody><p>636,307 rows × 3 columns</p><tr><th>1</th><td>0</td><td>0</td><td>195338</td></tr><tr><th>2</th><td>0</td><td>0</td><td>262737</td></tr><tr><th>3</th><td>0</td><td>0</td><td>219588</td></tr><tr><th>4</th><td>0</td><td>0</td><td>133782</td></tr><tr><th>5</th><td>0</td><td>0</td><td>266169</td></tr><tr><th>6</th><td>0</td><td>0</td><td>131916</td></tr><tr><th>7</th><td>0</td><td>0</td><td>186665</td></tr><tr><th>8</th><td>0</td><td>0</td><td>268759</td></tr><tr><th>9</th><td>0</td><td>0</td><td>233547</td></tr><tr><th>10</th><td>0</td><td>0</td><td>257529</td></tr><tr><th>11</th><td>0</td><td>0</td><td>212599</td></tr><tr><th>12</th><td>0</td><td>0</td><td>193626</td></tr><tr><th>13</th><td>0</td><td>0</td><td>244183</td></tr><tr><th>14</th><td>0</td><td>0</td><td>176165</td></tr><tr><th>15</th><td>0</td><td>0</td><td>119616</td></tr><tr><th>16</th><td>0</td><td>0</td><td>216387</td></tr><tr><th>17</th><td>0</td><td>0</td><td>123423</td></tr><tr><th>18</th><td>0</td><td>0</td><td>106583</td></tr><tr><th>19</th><td>0</td><td>0</td><td>246626</td></tr><tr><th>20</th><td>0</td><td>0</td><td>175864</td></tr><tr><th>21</th><td>0</td><td>0</td><td>212823</td></tr><tr><th>22</th><td>0</td><td>0</td><td>123496</td></tr><tr><th>23</th><td>0</td><td>0</td><td>183101</td></tr><tr><th>24</th><td>0</td><td>0</td><td>140343</td></tr><tr><th>25</th><td>0</td><td>0</td><td>160429</td></tr><tr><th>26</th><td>0</td><td>0</td><td>244597</td></tr><tr><th>27</th><td>0</td><td>0</td><td>271798</td></tr><tr><th>28</th><td>0</td><td>0</td><td>202775</td></tr><tr><th>29</th><td>0</td><td>0</td><td>184007</td></tr><tr><th>30</th><td>0</td><td>0</td><td>208234</td></tr><tr><th>&vellip;</th><td>&vellip;</td><td>&vellip;</td><td>&vellip;</td></tr></tbody></table>"
      ],
      "text/latex": [
       "\\begin{tabular}{r|ccc}\n",
       "\t& age & gender & household\\_index\\\\\n",
       "\t\\hline\n",
       "\t& Int8 & Bool & Int32\\\\\n",
       "\t\\hline\n",
       "\t1 & 0 & 0 & 195338 \\\\\n",
       "\t2 & 0 & 0 & 262737 \\\\\n",
       "\t3 & 0 & 0 & 219588 \\\\\n",
       "\t4 & 0 & 0 & 133782 \\\\\n",
       "\t5 & 0 & 0 & 266169 \\\\\n",
       "\t6 & 0 & 0 & 131916 \\\\\n",
       "\t7 & 0 & 0 & 186665 \\\\\n",
       "\t8 & 0 & 0 & 268759 \\\\\n",
       "\t9 & 0 & 0 & 233547 \\\\\n",
       "\t10 & 0 & 0 & 257529 \\\\\n",
       "\t11 & 0 & 0 & 212599 \\\\\n",
       "\t12 & 0 & 0 & 193626 \\\\\n",
       "\t13 & 0 & 0 & 244183 \\\\\n",
       "\t14 & 0 & 0 & 176165 \\\\\n",
       "\t15 & 0 & 0 & 119616 \\\\\n",
       "\t16 & 0 & 0 & 216387 \\\\\n",
       "\t17 & 0 & 0 & 123423 \\\\\n",
       "\t18 & 0 & 0 & 106583 \\\\\n",
       "\t19 & 0 & 0 & 246626 \\\\\n",
       "\t20 & 0 & 0 & 175864 \\\\\n",
       "\t21 & 0 & 0 & 212823 \\\\\n",
       "\t22 & 0 & 0 & 123496 \\\\\n",
       "\t23 & 0 & 0 & 183101 \\\\\n",
       "\t24 & 0 & 0 & 140343 \\\\\n",
       "\t25 & 0 & 0 & 160429 \\\\\n",
       "\t26 & 0 & 0 & 244597 \\\\\n",
       "\t27 & 0 & 0 & 271798 \\\\\n",
       "\t28 & 0 & 0 & 202775 \\\\\n",
       "\t29 & 0 & 0 & 184007 \\\\\n",
       "\t30 & 0 & 0 & 208234 \\\\\n",
       "\t$\\dots$ & $\\dots$ & $\\dots$ & $\\dots$ \\\\\n",
       "\\end{tabular}\n"
      ],
      "text/plain": [
       "636307×3 DataFrame\n",
       "│ Row    │ age  │ gender │ household_index │\n",
       "│        │ \u001b[90mInt8\u001b[39m │ \u001b[90mBool\u001b[39m   │ \u001b[90mInt32\u001b[39m           │\n",
       "├────────┼──────┼────────┼─────────────────┤\n",
       "│ 1      │ 0    │ 0      │ 195338          │\n",
       "│ 2      │ 0    │ 0      │ 262737          │\n",
       "│ 3      │ 0    │ 0      │ 219588          │\n",
       "│ 4      │ 0    │ 0      │ 133782          │\n",
       "│ 5      │ 0    │ 0      │ 266169          │\n",
       "│ 6      │ 0    │ 0      │ 131916          │\n",
       "│ 7      │ 0    │ 0      │ 186665          │\n",
       "│ 8      │ 0    │ 0      │ 268759          │\n",
       "│ 9      │ 0    │ 0      │ 233547          │\n",
       "│ 10     │ 0    │ 0      │ 257529          │\n",
       "⋮\n",
       "│ 636297 │ 88   │ 1      │ 263415          │\n",
       "│ 636298 │ 88   │ 1      │ 160199          │\n",
       "│ 636299 │ 89   │ 1      │ 176226          │\n",
       "│ 636300 │ 88   │ 1      │ 64647           │\n",
       "│ 636301 │ 88   │ 1      │ 120479          │\n",
       "│ 636302 │ 88   │ 1      │ 188024          │\n",
       "│ 636303 │ 87   │ 1      │ 57046           │\n",
       "│ 636304 │ 87   │ 1      │ 145108          │\n",
       "│ 636305 │ 87   │ 1      │ 219707          │\n",
       "│ 636306 │ 87   │ 1      │ 274082          │\n",
       "│ 636307 │ 85   │ 1      │ 261391          │"
      ]
     },
     "execution_count": 5,
     "metadata": {},
     "output_type": "execute_result"
    }
   ],
   "source": [
    "df = GZip.open(\"data/simulations/wroclaw-population-orig.csv.gz\",\"r\") do io\n",
    "    df = CSV.read(io, copycols=true)  # read CSV as DataFrame\n",
    "    # create new DataFrame with\n",
    "    DataFrame(\n",
    "        age=Int8.(df.age),\n",
    "        gender = df.gender .== 1,\n",
    "        household_index = Int32.(df.household_index)\n",
    "    )\n",
    "end"
   ]
  },
  {
   "cell_type": "code",
   "execution_count": 2,
   "metadata": {},
   "outputs": [],
   "source": [
    "@enum HealthState Healthy Infected Infectious StayingHome Hospitalized Recovered Dead\n",
    "\n",
    "@enum Severity Asymptomatic=1 Mild Severe Critical\n",
    "\n",
    "@enum ContactKind::UInt8 HouseholdContact FriendshipContact SporadicContact ConstantKernelContact"
   ]
  },
  {
   "cell_type": "code",
   "execution_count": 3,
   "metadata": {},
   "outputs": [],
   "source": [
    "abstract type AbstractEvent end\n",
    "\n",
    "abstract type DiseaseEvent <: AbstractEvent end\n",
    "abstract type InfectionEvent <: AbstractEvent end\n",
    "\n",
    "struct BecomeInfectiousEvent <: DiseaseEvent\n",
    "    time::Float32\n",
    "    subject_id::Int32\n",
    "end\n",
    "\n",
    "struct StayHomeEvent <: DiseaseEvent\n",
    "    time::Float32\n",
    "    subject_id::Int32\n",
    "end\n",
    "\n",
    "struct GoHospitalEvent <: DiseaseEvent\n",
    "    time::Float32\n",
    "    subject_id::Int32\n",
    "end\n",
    "\n",
    "struct DeathEvent <: DiseaseEvent\n",
    "    time::Float32\n",
    "    subject_id::Int32\n",
    "end\n",
    "\n",
    "struct RecoverEvent <: DiseaseEvent\n",
    "    time::Float32\n",
    "    subject_id::Int32\n",
    "end\n",
    "\n",
    "struct OutsideInfectionEvent <: InfectionEvent\n",
    "    time::Float32\n",
    "    subject_id::Int32\n",
    "end\n",
    "\n",
    "struct TransmissionEvent <: InfectionEvent\n",
    "    time::Float32\n",
    "    subject_id::Int32\n",
    "    source_id::Int32\n",
    "    kind::ContactKind\n",
    "end\n"
   ]
  },
  {
   "cell_type": "code",
   "execution_count": 6,
   "metadata": {},
   "outputs": [],
   "source": [
    "# the constant part of the simulation\n",
    "struct SimParams \n",
    "    individual_df::DataFrame    # the sampled population\n",
    "    household_df::DataFrame     # sampled households\n",
    "    progression_df::DataFrame   # sampled progression times\n",
    "   \n",
    "    constant_kernel_param::Float64\n",
    "    \n",
    "    dist_severity::Categorical\n",
    "    \n",
    "    dist_incubation_time::DiscreteNonParametric\n",
    "    dist_t0_to_t1::DiscreteNonParametric\n",
    "    dist_t0_to_t2::DiscreteNonParametric\n",
    "    dist_recovery::DiscreteNonParametric\n",
    "    \n",
    "    dist_death_prob::DiscreteNonParametric\n",
    "    dist_death_time::DiscreteNonParametric\n",
    "    \n",
    "end\n",
    "\n",
    "# the mutable part of the simulation\n",
    "mutable struct SimState\n",
    "    time::Float64\n",
    "    queue::BinaryHeap{AbstractEvent} # TODO change to union once all events are implemented\n",
    "    health_states::Vector{HealthState}\n",
    "    detected::BitVector\n",
    "    \n",
    "    infections::SortedSet{InfectionEvent} # TODO change to union \n",
    "    \n",
    "    num_dead::Int\n",
    "    num_affected::Int\n",
    "    num_detected::Int\n",
    "end"
   ]
  },
  {
   "cell_type": "code",
   "execution_count": 13,
   "metadata": {},
   "outputs": [
    {
     "data": {
      "text/plain": [
       "add_potential_contractions_from_constant_kernel (generic function with 1 method)"
      ]
     },
     "execution_count": 13,
     "metadata": {},
     "output_type": "execute_result"
    }
   ],
   "source": [
    "function add_potential_contractions_from_constant_kernel!(state::SimState, params::SimParams, source_id::Integer)\n",
    "    progession = params.progression_df[person_id]\n",
    "\n",
    "    start_time = progressions.t0\n",
    "    end_time = missing == progressions.t1 ? progressions.t2 : progressions.t1\n",
    "        \n",
    "    time_dist = Uniform(start_time, end_time)\n",
    "    \n",
    "    total_infection_rate = (end_time - start_time) * param.constant_kernel_param\n",
    "    num_infections = random(Poisson(total_infection_rate))\n",
    "    \n",
    "    if num_infections == 0\n",
    "        return\n",
    "    end\n",
    "    \n",
    "    num_individuals = size(params.individual_df, 1)\n",
    "    selected_individuals = sample(num_individuals-1, num_infecitons) # exclude the source itself\n",
    "    \n",
    "    for subject_id in selected_individuals\n",
    "        if subject_id >= source_id # restore the indexing\n",
    "            subject_id +=1 \n",
    "        end\n",
    "        \n",
    "        if Healthy == subjecthealt(subject_id) \n",
    "            infection_time = rand(time_dist)\n",
    "            push!(state.queue, TransmissionEvent(infection_time, source_id, subject_id, ConstantKernelContact))\n",
    "        end\n",
    "    end\n",
    "end"
   ]
  },
  {
   "cell_type": "code",
   "execution_count": null,
   "metadata": {},
   "outputs": [],
   "source": [
    "function generate_progression_times(params::SimParams, severity::Severity)\n",
    "    incubation_time = sample(params.dist_incubation)\n",
    "        \n",
    "    \n",
    "    if severity == Severe || severity == Critical    \n",
    "        t2 = incubation_time + sample(params.dist_t0_to_t2)\n",
    "    else\n",
    "    t1 = t0 + sample(params.dist_t0_to_t1)\n",
    "        \n",
    "end"
   ]
  },
  {
   "cell_type": "code",
   "execution_count": null,
   "metadata": {},
   "outputs": [],
   "source": [
    "def generate_disease_progression(self, person_id, event_time: float,\n",
    "                                     initial_infection_status: InfectionStatus) -> None:\n",
    "        \"\"\"Returns list of disease progression events\n",
    "        \"future\" disease_progression should be recalculated when the disease will be recognised at the state level\n",
    "        t0 - time when individual becomes infectious (Mild symptoms)\n",
    "        t1 - time when individual stay home/visit doctor due to Mild/Serious? symptoms\n",
    "        t2 - time when individual goes to hospital due to Serious symptoms\n",
    "        \"\"\"\n",
    "        if initial_infection_status == InfectionStatus.Contraction:\n",
    "            tminus1 = event_time\n",
    "            t0 = tminus1 + self.generate_random_sample(**self.disease_progression[T0])\n",
    "            self.append_event(Event(t0, person_id, T0, person_id, DISEASE_PROGRESSION, tminus1))\n",
    "        elif initial_infection_status == InfectionStatus.Infectious:\n",
    "            t0 = event_time\n",
    "            # tminus1 does not to be defined, but for completeness let's calculate it\n",
    "            tminus1 = t0 - self.generate_random_sample(**self.disease_progression[T0])\n",
    "        else:\n",
    "            raise ValueError(f\"invalid initial infection status {initial_infection_status}\")\n",
    "        t2 = None\n",
    "        # t3 = None\n",
    "        if self._expected_case_severity[person_id] in [\n",
    "            ExpectedCaseSeverity.Severe,\n",
    "            ExpectedCaseSeverity.Critical\n",
    "        ]:\n",
    "            t2 = t0 + self.generate_random_sample(**self.disease_progression[T2])\n",
    "            self.append_event(Event(t2, person_id, T2, person_id, DISEASE_PROGRESSION, t0))\n",
    "\n",
    "        t1 = t0 + self.generate_random_sample(**self.disease_progression[T1])\n",
    "        if not t2 or t1 < t2:\n",
    "            self.append_event(Event(t1, person_id, T1, person_id, DISEASE_PROGRESSION, t0))\n",
    "        else:\n",
    "            t1 = None\n",
    "        #self._df_progression_times =\n",
    "        tdetection = None\n",
    "        trecovery = None\n",
    "        tdeath = None\n",
    "        if np.random.rand() <= self._params[DEATH_PROBABILITY][self._expected_case_severity[person_id].value]:\n",
    "            tdeath = t0 + self.generate_random_sample(**self.disease_progression[TDEATH])\n",
    "            self.append_event(Event(tdeath, person_id, TDEATH, person_id, DISEASE_PROGRESSION, t0))\n",
    "        else:\n",
    "            #trecovery =\n",
    "            pass\n",
    "        self._progression_times_dict[person_id] = {ID: person_id, TMINUS1: tminus1, T0: t0, T1: t1, T2: t2,\n",
    "                                                   TDEATH: tdeath}\n",
    "                                                   #TDETECTION: tdetection, TRECOVERY: trecovery, TDEATH: tdeath}\n",
    "        if initial_infection_status == InfectionStatus.Infectious:\n",
    "            self.handle_t0(person_id)"
   ]
  },
  {
   "cell_type": "code",
   "execution_count": 9,
   "metadata": {},
   "outputs": [
    {
     "data": {
      "text/plain": [
       "isactive (generic function with 1 method)"
      ]
     },
     "execution_count": 9,
     "metadata": {},
     "output_type": "execute_result"
    }
   ],
   "source": [
    "isactive(state::HealthState) = (state == Infectious) || (state == StayingHome)"
   ]
  },
  {
   "cell_type": "code",
   "execution_count": 7,
   "metadata": {},
   "outputs": [
    {
     "data": {
      "text/plain": [
       "sourcehealth (generic function with 1 method)"
      ]
     },
     "execution_count": 7,
     "metadata": {},
     "output_type": "execute_result"
    }
   ],
   "source": [
    "time(event::AbstractEvent) = event.time \n",
    "isless(e1::AbstractEvent, e2::AbstractEvent) = time(e1) < time(e2)\n",
    "\n",
    "subject(event::AbstractEvent) = event.subject_id\n",
    "source(event::TransmissionEvent) = event.source_id\n",
    "\n",
    "health(state::SimState, person_id::Integer) = state.infection_status[person_id]\n",
    "\n",
    "subjecthealth(state::SimState, event::AbstractEvent) = health(state, subject(event))\n",
    "sourcehealth(state::SimState, event::TransmissionEvent) = health(state, source(event))"
   ]
  },
  {
   "cell_type": "code",
   "execution_count": null,
   "metadata": {},
   "outputs": [],
   "source": [
    "function register_infection(state::SimState, params::SimParams, subject_id::Integer, source_id::Integer, kind::ContactKind)\n",
    "    \n",
    "end"
   ]
  },
  {
   "cell_type": "code",
   "execution_count": 12,
   "metadata": {},
   "outputs": [
    {
     "data": {
      "text/plain": [
       "execute! (generic function with 6 methods)"
      ]
     },
     "execution_count": 12,
     "metadata": {},
     "output_type": "execute_result"
    }
   ],
   "source": [
    "function execute!(state::SimState, params::SimParams, event::OutsideInfectionEvent)\n",
    "    @assert Recovered !== subjecthealth(state, event)\n",
    "    if Healthy == subjecthealth(state, event)\n",
    "        state.infection_status[event.person_id] = Infected\n",
    "        push!(state.infections, event)\n",
    "    end\n",
    "end\n",
    "\n",
    "function execute!(state::SimState, params::SimParams, event::TransmissionEvent)\n",
    "    if Healthy != subjecthealth(state, event) || !isactive(sourcehealth(event))\n",
    "        return\n",
    "    end\n",
    "    \n",
    "    if event.kind != HouseholdContact\n",
    "        if sourcehealth(event) != StayingHome \n",
    "            push!(state.infections, event)\n",
    "        end\n",
    "    else\n",
    "        push!(state.infections, event)\n",
    "    end\n",
    "end\n",
    "\n",
    "function execute!(state::SimState, params::SimParams, event::BecomeInfectiousEvent)\n",
    "    @assert Infectious !== subjecthealth(state, event)\n",
    "    @assert Recovered !== subjecthealth(state, event)\n",
    "    state.infection_status[event.subject_id] = Infecitous\n",
    "    \n",
    "    add_potential_contacts!(HouseholdContact, state, params, event.subject_id)\n",
    "    add_potential_contacts!(ConstantKernelContact, state, params, event.subject_id)\n",
    "end\n",
    "\n",
    "function execute!(state::SimState, params::SimParams, event::StayHomeEvent)\n",
    "    if target_status == subjecthealth(state, event)\n",
    "        state.infection_status[event.subject_id] = StayHome\n",
    "    end\n",
    "end\n",
    "\n",
    "function execute!(state::SimState, params::SimParams, event::GoHospitalEvent)\n",
    "    person_health = subjecthealth(state, event)\n",
    "    if person_health == StayingHome || person_health == Infectious\n",
    "        state.infection_status[event.subject_id] = Hospitalized\n",
    "    end\n",
    "end\n",
    "\n",
    "function execute!(state::SimState, params::SimParams, event::RecoverEvent)\n",
    "    @assert isactive(subjecthealth(event))\n",
    "    \n",
    "    state.infection_status[event.subject_id] = Recovered\n",
    "end\n",
    "\n",
    "function execute!(state::SimState, params::SimParams, event::DeathEvent)\n",
    "    @assert Recovered !== subjecthealth(event)\n",
    "    @assert Dead !== subjecthealth(event)\n",
    "\n",
    "    state.infection_status[event.subject_id] = Dead\n",
    "end"
   ]
  },
  {
   "cell_type": "code",
   "execution_count": 38,
   "metadata": {},
   "outputs": [
    {
     "data": {
      "text/latex": [
       "\\begin{tabular}\n",
       "{l | r | l}\n",
       "name & size & summary \\\\\n",
       "\\hline\n",
       "Base &  & Module \\\\\n",
       "Core &  & Module \\\\\n",
       "Main &  & Module \\\\\n",
       "df & 3.111 MiB & 636307×3 DataFrame \\\\\n",
       "\\end{tabular}\n"
      ],
      "text/markdown": [
       "| name |      size | summary            |\n",
       "|:---- | ---------:|:------------------ |\n",
       "| Base |           | Module             |\n",
       "| Core |           | Module             |\n",
       "| Main |           | Module             |\n",
       "| df   | 3.111 MiB | 636307×3 DataFrame |\n"
      ],
      "text/plain": [
       "  name      size summary           \n",
       "  –––– ––––––––– ––––––––––––––––––\n",
       "  Base           Module            \n",
       "  Core           Module            \n",
       "  Main           Module            \n",
       "  df   3.111 MiB 636307×3 DataFrame"
      ]
     },
     "execution_count": 38,
     "metadata": {},
     "output_type": "execute_result"
    }
   ],
   "source": [
    "function simulate!(state, params)\n",
    "    while true\n",
    "        if isempty(queue)\n",
    "            @info \"Empty queue\"\n",
    "            break\n",
    "        end\n",
    "        \n",
    "        event = pop!(state.event_queue)\n",
    "        if state.affected_people >= params.stop_simulation_threshold\n",
    "            @info \"The outbreak reached a high number $(params.stop_simulation_threshold)\"\n",
    "            break\n",
    "        else\n",
    "            event.time >= params.max_time\n",
    "            @info \"Max time reached\"\n",
    "            break\n",
    "        end\n",
    "        \n",
    "        state.global_time = event.time\n",
    "        \n",
    "        execute!(state, params, event)\n",
    "    end\n",
    "end"
   ]
  },
  {
   "cell_type": "code",
   "execution_count": 11,
   "metadata": {},
   "outputs": [
    {
     "data": {
      "text/plain": [
       "OutsideInfectionEvent(1.2f0, 34)"
      ]
     },
     "metadata": {},
     "output_type": "display_data"
    },
    {
     "data": {
      "text/plain": [
       "TransmissionEvent(1.25f0, 100, 56, ConstantKernelContact)"
      ]
     },
     "metadata": {},
     "output_type": "display_data"
    },
    {
     "data": {
      "text/plain": [
       "OutsideInfectionEvent(1.3f0, 45)"
      ]
     },
     "metadata": {},
     "output_type": "display_data"
    }
   ],
   "source": [
    "\n",
    "h = DataStructures.BinaryHeap{AbstractEvent, DataStructures.LessThan}()\n",
    "push!(h, OutsideInfectionEvent(1.2, 34))\n",
    "push!(h, OutsideInfectionEvent(1.3, 45))\n",
    "push!(h, TransmissionEvent(1.25, 100, 56, ConstantKernelContact))\n",
    "\n",
    "pop!(h) |> display\n",
    "pop!(h) |> display\n",
    "pop!(h) |> display"
   ]
  },
  {
   "cell_type": "code",
   "execution_count": null,
   "metadata": {},
   "outputs": [],
   "source": []
  }
 ],
 "metadata": {
  "kernelspec": {
   "display_name": "Julia 1.4.0",
   "language": "julia",
   "name": "julia-1.4"
  },
  "language_info": {
   "file_extension": ".jl",
   "mimetype": "application/julia",
   "name": "julia",
   "version": "1.4.0"
  }
 },
 "nbformat": 4,
 "nbformat_minor": 4
}
