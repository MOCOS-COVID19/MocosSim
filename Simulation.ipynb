{
 "cells": [
  {
   "cell_type": "code",
   "execution_count": 1,
   "metadata": {},
   "outputs": [
    {
     "data": {
      "text/plain": [
       "4-element Array{String,1}:\n",
       " \"@\"\n",
       " \"@v#.#\"\n",
       " \"@stdlib\"\n",
       " \"julia/src\""
      ]
     },
     "execution_count": 1,
     "metadata": {},
     "output_type": "execute_result"
    }
   ],
   "source": [
    "#push!(LOAD_PATH,\"julia/src\")\n",
    "#import Simulation"
   ]
  },
  {
   "cell_type": "code",
   "execution_count": 56,
   "metadata": {},
   "outputs": [
    {
     "name": "stderr",
     "output_type": "stream",
     "text": [
      "WARNING: replacing module Simulation.\n"
     ]
    },
    {
     "data": {
      "text/plain": [
       "Main.Simulation"
      ]
     },
     "execution_count": 56,
     "metadata": {},
     "output_type": "execute_result"
    }
   ],
   "source": [
    "include(\"julia/src/Simulation/Simulation.jl\") # might need some time to compile"
   ]
  },
  {
   "cell_type": "code",
   "execution_count": 57,
   "metadata": {},
   "outputs": [
    {
     "data": {
      "text/plain": [
       "Main.Simulation.Progression(Main.Simulation.Severe, 9.0f0, 13.25f0, 16.0f0, 30.0f0, NaN32)"
      ]
     },
     "metadata": {},
     "output_type": "display_data"
    },
    {
     "data": {
      "text/plain": [
       "(0x00000001, 0x00000001)"
      ]
     },
     "metadata": {},
     "output_type": "display_data"
    }
   ],
   "source": [
    "using Random\n",
    "#loads and pre-processes data that is constant during the simulation time\n",
    "params = Simulation.load_params(\n",
    "    MersenneTwister(3),\n",
    "    population_path=\"data/simulations/wroclaw-population-orig.csv.gz\", \n",
    "    incubation_time_samples_path=\"test/models/assets/incubation_period_distribution.npy\", \n",
    "    t0_to_t1_samples_path=\"test/models/assets/t1_distribution.npy\",\n",
    "    t0_to_t2_samples_path=\"test/models/assets/t1_t2_distribution.npy\");\n",
    "\n",
    "params.progressions[1] |> display\n",
    "params.household_ptrs[1] |> display"
   ]
  },
  {
   "cell_type": "code",
   "execution_count": 58,
   "metadata": {
    "scrolled": false
   },
   "outputs": [
    {
     "name": "stdout",
     "output_type": "stream",
     "text": [
      "  0.760575 seconds (903.28 k allocations: 45.478 MiB)\n",
      "TransmissionEvent\n",
      "Variables\n",
      "  #self#\u001b[36m::Core.Compiler.Const(Main.Simulation.execute!, false)\u001b[39m\n",
      "  state\u001b[36m::Main.Simulation.SimState\u001b[39m\n",
      "  params\u001b[36m::Main.Simulation.SimParams\u001b[39m\n",
      "  event\u001b[36m::Main.Simulation.Event\u001b[39m\n",
      "  kind\u001b[36m::Main.Simulation.EventKind\u001b[39m\n",
      "\n",
      "Body\u001b[36m::Bool\u001b[39m\n",
      "\u001b[90m1 ─\u001b[39m %1 = Main.Simulation.Bool\u001b[36m::Core.Compiler.Const(Bool, false)\u001b[39m\n",
      "\u001b[90m│  \u001b[39m %2 = Base.getproperty(event, :event_kind)\u001b[36m::Main.Simulation.EventKind\u001b[39m\n",
      "\u001b[90m│  \u001b[39m %3 = Base.convert(Main.Simulation.EventKind, %2)\u001b[36m::Main.Simulation.EventKind\u001b[39m\n",
      "\u001b[90m│  \u001b[39m      (kind = Core.typeassert(%3, Main.Simulation.EventKind))\n",
      "\u001b[90m│  \u001b[39m %5 = Main.Simulation.Val(kind)\u001b[91m\u001b[1m::Val{_A} where _A\u001b[22m\u001b[39m\n",
      "\u001b[90m│  \u001b[39m %6 = Main.Simulation.execute!(%5, state, params, event)\u001b[91m\u001b[1m::Any\u001b[22m\u001b[39m\n",
      "\u001b[90m│  \u001b[39m %7 = Core.typeassert(%6, Main.Simulation.Bool)\u001b[36m::Bool\u001b[39m\n",
      "\u001b[90m│  \u001b[39m %8 = Base.convert(%1, %7)\u001b[36m::Bool\u001b[39m\n",
      "\u001b[90m│  \u001b[39m %9 = Core.typeassert(%8, %1)\u001b[36m::Bool\u001b[39m\n",
      "\u001b[90m└──\u001b[39m      return %9\n"
     ]
    }
   ],
   "source": [
    "state = Simulation.SimState(params.progressions |> length, seed=123)\n",
    "\n",
    "push!(state.queue, Simulation.Event(Val(Simulation.OutsideInfectionEvent),0.0,1))\n",
    "\n",
    "\n",
    "@time for iter  in 0:100\n",
    "    #println(\"iteration=$iter\")\n",
    "    if isempty(state.queue)\n",
    "        @info \"Empty queue after $iter events\"\n",
    "        break\n",
    "    end\n",
    "    \n",
    "    event = pop!(state.queue)\n",
    "    state.time = Simulation.time(event)\n",
    "    #println(event.event_kind)   \n",
    "    result = Simulation.execute!(state, params, event)\n",
    "    \n",
    "end\n",
    "event = pop!(state.queue)\n",
    "state.time = Simulation.time(event)\n",
    "println(event.event_kind)\n",
    "@code_warntype Simulation.execute!(state, params, event)\n",
    "\n",
    "#event |> display\n",
    "\n",
    "#id = 0x000781a0\n",
    "#state.individuals[id]\n",
    "#Simulation.householdof(params, id) |> collect"
   ]
  },
  {
   "cell_type": "code",
   "execution_count": 13,
   "metadata": {},
   "outputs": [
    {
     "data": {
      "text/plain": [
       "Main.Simulation.Event(0.0f0, 0x00000001, 0x00000000, Main.Simulation.OutsideInfectionEvent, Main.Simulation.OutsideContact)"
      ]
     },
     "execution_count": 13,
     "metadata": {},
     "output_type": "execute_result"
    }
   ],
   "source": [
    "Simulation.Event(Val(Simulation.OutsideInfectionEvent),0.0,1)"
   ]
  },
  {
   "cell_type": "code",
   "execution_count": 59,
   "metadata": {},
   "outputs": [
    {
     "data": {
      "text/plain": [
       "Val{5}"
      ]
     },
     "execution_count": 59,
     "metadata": {},
     "output_type": "execute_result"
    }
   ],
   "source": [
    "Val(5) |> typeof"
   ]
  },
  {
   "cell_type": "code",
   "execution_count": 335,
   "metadata": {},
   "outputs": [
    {
     "data": {
      "text/plain": [
       "Main.Simulation.Progression(Main.Simulation.Mild, 1.0f0, 1.25f0, NaN32, 1.25f0, NaN32)"
      ]
     },
     "metadata": {},
     "output_type": "display_data"
    },
    {
     "data": {
      "text/plain": [
       "Main.Simulation.IndividualState(Main.Simulation.MildSymptoms, Main.Simulation.Free, 0, false)"
      ]
     },
     "metadata": {},
     "output_type": "display_data"
    }
   ],
   "source": [
    "id =0x00094a94\n",
    "params.progressions[id] |> display\n",
    "state.individuals[id] |> display"
   ]
  },
  {
   "cell_type": "code",
   "execution_count": 39,
   "metadata": {},
   "outputs": [
    {
     "data": {
      "text/plain": [
       "true"
      ]
     },
     "execution_count": 39,
     "metadata": {},
     "output_type": "execute_result"
    }
   ],
   "source": [
    "Val(Simulation.DeathEvent) |> isbits"
   ]
  },
  {
   "cell_type": "code",
   "execution_count": 52,
   "metadata": {},
   "outputs": [
    {
     "ename": "UndefVarError",
     "evalue": "UndefVarError: params_id not defined",
     "output_type": "error",
     "traceback": [
      "UndefVarError: params_id not defined",
      "",
      "Stacktrace:",
      " [1] severityof(::Main.Simulation.SimParams, ::UInt32) at /Users/tomek/modelling-ncov2019/julia/src/simparams.jl:48",
      " [2] execute!(::Main.Simulation.SimState, ::Main.Simulation.SimParams, ::Main.Simulation.GoHospitalEvent) at /Users/tomek/modelling-ncov2019/julia/src/event_execution.jl:177",
      " [3] simulate!(::Main.Simulation.SimState, ::Main.Simulation.SimParams) at /Users/tomek/modelling-ncov2019/julia/src/Simulation.jl:88",
      " [4] macro expansion at ./util.jl:175 [inlined]",
      " [5] top-level scope at ./In[52]:6"
     ]
    }
   ],
   "source": [
    "## creates mutable simulation state\n",
    "state = Simulation.SimState(params.progressions |> length, seed=123)\n",
    "\n",
    "# add initial event (infect the person no1 at time 0)\n",
    "push!(state.queue, Simulation.OutsideInfectionEvent(0.0,1))\n",
    "# (the first person must be infectious for significant amount of time for the epidemics to kick off)\n",
    "\n",
    "# the first run includes compilation time, run twice to get meaningful results (precompilation will be added soon)\n",
    "@time Simulation.simulate!(state, params)\n"
   ]
  },
  {
   "cell_type": "code",
   "execution_count": 279,
   "metadata": {
    "scrolled": true
   },
   "outputs": [
    {
     "data": {
      "text/plain": [
       "Main.Simulation.TransmissionEvent(18.69558f0, 491936, 1, Main.Simulation.ConstantKernelContact)"
      ]
     },
     "execution_count": 279,
     "metadata": {},
     "output_type": "execute_result"
    }
   ],
   "source": [
    "using DataStructures\n",
    "i1, i2 = searchequalrange(state.infections, 1)\n",
    "state.infections[i1]\n"
   ]
  },
  {
   "cell_type": "code",
   "execution_count": 10,
   "metadata": {},
   "outputs": [
    {
     "name": "stdout",
     "output_type": "stream",
     "text": [
      "3 ---> 5\n",
      "3 ---> 6\n"
     ]
    }
   ],
   "source": [
    "infections = SortedMultiDict{Int32,Int32}()\n",
    "push!(infections, 0=>1)\n",
    "push!(infections, 1=>2)\n",
    "push!(infections, 1=>3)\n",
    "push!(infections, 2=>4)\n",
    "push!(infections, 3=>5)\n",
    "push!(infections, 3=>6)\n",
    "for (k,v) in inclusive(infections, searchequalrange(infections, 3)...)\n",
    "    println(\"$k ---> $v\")\n",
    "end"
   ]
  },
  {
   "cell_type": "code",
   "execution_count": null,
   "metadata": {},
   "outputs": [],
   "source": []
  },
  {
   "cell_type": "code",
   "execution_count": 8,
   "metadata": {},
   "outputs": [
    {
     "data": {
      "text/plain": [
       "24"
      ]
     },
     "execution_count": 8,
     "metadata": {},
     "output_type": "execute_result"
    }
   ],
   "source": [
    "inclusive(infections, i1, i2) |> sizeof"
   ]
  }
 ],
 "metadata": {
  "kernelspec": {
   "display_name": "Julia 1.4.0",
   "language": "julia",
   "name": "julia-1.4"
  },
  "language_info": {
   "file_extension": ".jl",
   "mimetype": "application/julia",
   "name": "julia",
   "version": "1.4.0"
  }
 },
 "nbformat": 4,
 "nbformat_minor": 4
}
