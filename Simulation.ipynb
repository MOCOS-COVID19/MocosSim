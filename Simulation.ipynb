{
 "cells": [
  {
   "cell_type": "code",
   "execution_count": 4,
   "metadata": {},
   "outputs": [],
   "source": [
    "using CSV\n",
    "using DataFrames\n",
    "using DataStructures\n",
    "using Distributions\n",
    "using GZip\n",
    "using JSON\n",
    "using Logging\n",
    "using ProgressMeter\n",
    "using PyPlot\n",
    "using PyCall\n",
    "\n",
    "using Distributions\n",
    "using Random\n",
    "\n",
    "import Base.isless"
   ]
  },
  {
   "cell_type": "code",
   "execution_count": 69,
   "metadata": {},
   "outputs": [
    {
     "data": {
      "text/plain": [
       "DiscreteNonParametric{Float64,Float64,StepRangeLen{Float64,Base.TwicePrecision{Float64},Base.TwicePrecision{Float64}},Array{Float64,1}}(\n",
       "support: 1.0:0.13:6.98\n",
       "p: [0.0011180731038682085, 0.0014276675463293152, 0.0017750528597011682, 0.0021602290439837655, 0.002583196099177109, 0.0030439540252811975, 0.0035425028222960324, 0.004078842490221612, 0.004652973029057937, 0.005264894438805007  …  0.03774178750148563, 0.039449644167644335, 0.04119529170471376, 0.042978730112693944, 0.04479995939158486, 0.046658979541386536, 0.04855579056209895, 0.050490392453722104, 0.05246278521625601, 0.054472968849700674]\n",
       ")\n"
      ]
     },
     "execution_count": 69,
     "metadata": {},
     "output_type": "execute_result"
    }
   ],
   "source": [
    "X = 1:0.13:7\n",
    "P = (X.^2)\n",
    "P ./= sum(P)\n",
    "\n",
    "dist = DiscreteNonParametric(X, P)"
   ]
  },
  {
   "cell_type": "code",
   "execution_count": 111,
   "metadata": {},
   "outputs": [
    {
     "data": {
      "text/plain": [
       "DiscreteNonParametric{Int64,P,Base.OneTo{Int64},Ps} where Ps where P"
      ]
     },
     "execution_count": 111,
     "metadata": {},
     "output_type": "execute_result"
    }
   ],
   "source": [
    "Categorical"
   ]
  },
  {
   "cell_type": "code",
   "execution_count": 100,
   "metadata": {
    "scrolled": true
   },
   "outputs": [
    {
     "name": "stdout",
     "output_type": "stream",
     "text": [
      "  0.023631 seconds (3 allocations: 3.815 MiB)\n"
     ]
    }
   ],
   "source": [
    "@time sample(X, 10^6);"
   ]
  },
  {
   "cell_type": "code",
   "execution_count": 29,
   "metadata": {},
   "outputs": [
    {
     "name": "stdout",
     "output_type": "stream",
     "text": [
      "  0.000004 seconds (1 allocation: 96 bytes)\n",
      "  0.018695 seconds (2 allocations: 7.629 MiB)\n"
     ]
    }
   ],
   "source": [
    "@time rand(Gamma(1,1), 1);\n",
    "@time rand(Gamma(1,1), 10^6);"
   ]
  },
  {
   "cell_type": "code",
   "execution_count": 103,
   "metadata": {},
   "outputs": [
    {
     "name": "stdout",
     "output_type": "stream",
     "text": [
      "  0.044631 seconds (9 allocations: 7.632 MiB)\n"
     ]
    }
   ],
   "source": [
    "@time rand(dist, 10^6);"
   ]
  },
  {
   "cell_type": "code",
   "execution_count": 112,
   "metadata": {
    "scrolled": true
   },
   "outputs": [
    {
     "data": {
      "text/html": [
       "<table class=\"data-frame\"><thead><tr><th></th><th>age</th><th>gender</th><th>household_index</th></tr><tr><th></th><th>Int8</th><th>Bool</th><th>Int32</th></tr></thead><tbody><p>636,307 rows × 3 columns</p><tr><th>1</th><td>0</td><td>0</td><td>195338</td></tr><tr><th>2</th><td>0</td><td>0</td><td>262737</td></tr><tr><th>3</th><td>0</td><td>0</td><td>219588</td></tr><tr><th>4</th><td>0</td><td>0</td><td>133782</td></tr><tr><th>5</th><td>0</td><td>0</td><td>266169</td></tr><tr><th>6</th><td>0</td><td>0</td><td>131916</td></tr><tr><th>7</th><td>0</td><td>0</td><td>186665</td></tr><tr><th>8</th><td>0</td><td>0</td><td>268759</td></tr><tr><th>9</th><td>0</td><td>0</td><td>233547</td></tr><tr><th>10</th><td>0</td><td>0</td><td>257529</td></tr><tr><th>11</th><td>0</td><td>0</td><td>212599</td></tr><tr><th>12</th><td>0</td><td>0</td><td>193626</td></tr><tr><th>13</th><td>0</td><td>0</td><td>244183</td></tr><tr><th>14</th><td>0</td><td>0</td><td>176165</td></tr><tr><th>15</th><td>0</td><td>0</td><td>119616</td></tr><tr><th>16</th><td>0</td><td>0</td><td>216387</td></tr><tr><th>17</th><td>0</td><td>0</td><td>123423</td></tr><tr><th>18</th><td>0</td><td>0</td><td>106583</td></tr><tr><th>19</th><td>0</td><td>0</td><td>246626</td></tr><tr><th>20</th><td>0</td><td>0</td><td>175864</td></tr><tr><th>21</th><td>0</td><td>0</td><td>212823</td></tr><tr><th>22</th><td>0</td><td>0</td><td>123496</td></tr><tr><th>23</th><td>0</td><td>0</td><td>183101</td></tr><tr><th>24</th><td>0</td><td>0</td><td>140343</td></tr><tr><th>25</th><td>0</td><td>0</td><td>160429</td></tr><tr><th>26</th><td>0</td><td>0</td><td>244597</td></tr><tr><th>27</th><td>0</td><td>0</td><td>271798</td></tr><tr><th>28</th><td>0</td><td>0</td><td>202775</td></tr><tr><th>29</th><td>0</td><td>0</td><td>184007</td></tr><tr><th>30</th><td>0</td><td>0</td><td>208234</td></tr><tr><th>&vellip;</th><td>&vellip;</td><td>&vellip;</td><td>&vellip;</td></tr></tbody></table>"
      ],
      "text/latex": [
       "\\begin{tabular}{r|ccc}\n",
       "\t& age & gender & household\\_index\\\\\n",
       "\t\\hline\n",
       "\t& Int8 & Bool & Int32\\\\\n",
       "\t\\hline\n",
       "\t1 & 0 & 0 & 195338 \\\\\n",
       "\t2 & 0 & 0 & 262737 \\\\\n",
       "\t3 & 0 & 0 & 219588 \\\\\n",
       "\t4 & 0 & 0 & 133782 \\\\\n",
       "\t5 & 0 & 0 & 266169 \\\\\n",
       "\t6 & 0 & 0 & 131916 \\\\\n",
       "\t7 & 0 & 0 & 186665 \\\\\n",
       "\t8 & 0 & 0 & 268759 \\\\\n",
       "\t9 & 0 & 0 & 233547 \\\\\n",
       "\t10 & 0 & 0 & 257529 \\\\\n",
       "\t11 & 0 & 0 & 212599 \\\\\n",
       "\t12 & 0 & 0 & 193626 \\\\\n",
       "\t13 & 0 & 0 & 244183 \\\\\n",
       "\t14 & 0 & 0 & 176165 \\\\\n",
       "\t15 & 0 & 0 & 119616 \\\\\n",
       "\t16 & 0 & 0 & 216387 \\\\\n",
       "\t17 & 0 & 0 & 123423 \\\\\n",
       "\t18 & 0 & 0 & 106583 \\\\\n",
       "\t19 & 0 & 0 & 246626 \\\\\n",
       "\t20 & 0 & 0 & 175864 \\\\\n",
       "\t21 & 0 & 0 & 212823 \\\\\n",
       "\t22 & 0 & 0 & 123496 \\\\\n",
       "\t23 & 0 & 0 & 183101 \\\\\n",
       "\t24 & 0 & 0 & 140343 \\\\\n",
       "\t25 & 0 & 0 & 160429 \\\\\n",
       "\t26 & 0 & 0 & 244597 \\\\\n",
       "\t27 & 0 & 0 & 271798 \\\\\n",
       "\t28 & 0 & 0 & 202775 \\\\\n",
       "\t29 & 0 & 0 & 184007 \\\\\n",
       "\t30 & 0 & 0 & 208234 \\\\\n",
       "\t$\\dots$ & $\\dots$ & $\\dots$ & $\\dots$ \\\\\n",
       "\\end{tabular}\n"
      ],
      "text/plain": [
       "636307×3 DataFrame\n",
       "│ Row    │ age  │ gender │ household_index │\n",
       "│        │ \u001b[90mInt8\u001b[39m │ \u001b[90mBool\u001b[39m   │ \u001b[90mInt32\u001b[39m           │\n",
       "├────────┼──────┼────────┼─────────────────┤\n",
       "│ 1      │ 0    │ 0      │ 195338          │\n",
       "│ 2      │ 0    │ 0      │ 262737          │\n",
       "│ 3      │ 0    │ 0      │ 219588          │\n",
       "│ 4      │ 0    │ 0      │ 133782          │\n",
       "│ 5      │ 0    │ 0      │ 266169          │\n",
       "│ 6      │ 0    │ 0      │ 131916          │\n",
       "│ 7      │ 0    │ 0      │ 186665          │\n",
       "│ 8      │ 0    │ 0      │ 268759          │\n",
       "│ 9      │ 0    │ 0      │ 233547          │\n",
       "│ 10     │ 0    │ 0      │ 257529          │\n",
       "⋮\n",
       "│ 636297 │ 88   │ 1      │ 263415          │\n",
       "│ 636298 │ 88   │ 1      │ 160199          │\n",
       "│ 636299 │ 89   │ 1      │ 176226          │\n",
       "│ 636300 │ 88   │ 1      │ 64647           │\n",
       "│ 636301 │ 88   │ 1      │ 120479          │\n",
       "│ 636302 │ 88   │ 1      │ 188024          │\n",
       "│ 636303 │ 87   │ 1      │ 57046           │\n",
       "│ 636304 │ 87   │ 1      │ 145108          │\n",
       "│ 636305 │ 87   │ 1      │ 219707          │\n",
       "│ 636306 │ 87   │ 1      │ 274082          │\n",
       "│ 636307 │ 85   │ 1      │ 261391          │"
      ]
     },
     "execution_count": 112,
     "metadata": {},
     "output_type": "execute_result"
    }
   ],
   "source": [
    "df = GZip.open(\"data/simulations/wroclaw-population-orig.csv.gz\",\"r\") do io\n",
    "    df = CSV.read(io, copycols=true)  # read CSV as DataFrame\n",
    "    # create new DataFrame with\n",
    "    DataFrame(\n",
    "        age=Int8.(df.age),\n",
    "        gender = df.gender .== 1,\n",
    "        household_index = Int32.(df.household_index)\n",
    "    )\n",
    "end"
   ]
  },
  {
   "cell_type": "code",
   "execution_count": 1,
   "metadata": {},
   "outputs": [],
   "source": [
    "@enum HealthState Healthy Infected Infectious StayingHome Hospitalized Recovered Dead\n",
    "\n",
    "@enum Severity Asymptomatic=1 Mild Severe Critical\n",
    "\n",
    "@enum ContactKind::UInt8 HouseholdContact FriendshipContact SporadicContact ConstantKernelContact"
   ]
  },
  {
   "cell_type": "code",
   "execution_count": 27,
   "metadata": {},
   "outputs": [
    {
     "name": "stdout",
     "output_type": "stream",
     "text": [
      "search: \u001b[0m\u001b[1mD\u001b[22m\u001b[0m\u001b[1mi\u001b[22m\u001b[0m\u001b[1ms\u001b[22m\u001b[0m\u001b[1mc\u001b[22m\u001b[0m\u001b[1mr\u001b[22m\u001b[0m\u001b[1me\u001b[22m\u001b[0m\u001b[1mt\u001b[22m\u001b[0m\u001b[1me\u001b[22m\u001b[0m\u001b[1mN\u001b[22m\u001b[0m\u001b[1mo\u001b[22m\u001b[0m\u001b[1mn\u001b[22m\u001b[0m\u001b[1mP\u001b[22m\u001b[0m\u001b[1ma\u001b[22m\u001b[0m\u001b[1mr\u001b[22m\u001b[0m\u001b[1ma\u001b[22m\u001b[0m\u001b[1mm\u001b[22m\u001b[0m\u001b[1me\u001b[22m\u001b[0m\u001b[1mt\u001b[22m\u001b[0m\u001b[1mr\u001b[22m\u001b[0m\u001b[1mi\u001b[22m\u001b[0m\u001b[1mc\u001b[22m\n",
      "\n"
     ]
    },
    {
     "data": {
      "text/latex": [
       "\\begin{verbatim}\n",
       "DiscreteNonParametric(xs, ps)\n",
       "\\end{verbatim}\n",
       "A \\emph{Discrete nonparametric distribution} explicitly defines an arbitrary probability mass function in terms of a list of real support values and their corresponding probabilities\n",
       "\n",
       "\\begin{verbatim}\n",
       "d = DiscreteNonParametric(xs, ps)\n",
       "\n",
       "params(d)  # Get the parameters, i.e. (xs, ps)\n",
       "support(d) # Get a sorted AbstractVector describing the support (xs) of the distribution\n",
       "probs(d)   # Get a Vector of the probabilities (ps) associated with the support\n",
       "\\end{verbatim}\n",
       "External links\n",
       "\n",
       "\\begin{itemize}\n",
       "\\item \\href{http://en.wikipedia.org/wiki/Probability_mass_function}{Probability mass function on Wikipedia}\n",
       "\n",
       "\\end{itemize}\n"
      ],
      "text/markdown": [
       "```\n",
       "DiscreteNonParametric(xs, ps)\n",
       "```\n",
       "\n",
       "A *Discrete nonparametric distribution* explicitly defines an arbitrary probability mass function in terms of a list of real support values and their corresponding probabilities\n",
       "\n",
       "```julia\n",
       "d = DiscreteNonParametric(xs, ps)\n",
       "\n",
       "params(d)  # Get the parameters, i.e. (xs, ps)\n",
       "support(d) # Get a sorted AbstractVector describing the support (xs) of the distribution\n",
       "probs(d)   # Get a Vector of the probabilities (ps) associated with the support\n",
       "```\n",
       "\n",
       "External links\n",
       "\n",
       "  * [Probability mass function on Wikipedia](http://en.wikipedia.org/wiki/Probability_mass_function)\n"
      ],
      "text/plain": [
       "\u001b[36m  DiscreteNonParametric(xs, ps)\u001b[39m\n",
       "\n",
       "  A \u001b[4mDiscrete nonparametric distribution\u001b[24m explicitly defines an arbitrary\n",
       "  probability mass function in terms of a list of real support values and\n",
       "  their corresponding probabilities\n",
       "\n",
       "\u001b[36m  d = DiscreteNonParametric(xs, ps)\u001b[39m\n",
       "\u001b[36m  \u001b[39m\n",
       "\u001b[36m  params(d)  # Get the parameters, i.e. (xs, ps)\u001b[39m\n",
       "\u001b[36m  support(d) # Get a sorted AbstractVector describing the support (xs) of the distribution\u001b[39m\n",
       "\u001b[36m  probs(d)   # Get a Vector of the probabilities (ps) associated with the support\u001b[39m\n",
       "\n",
       "  External links\n",
       "\n",
       "    •    Probability mass function on Wikipedia\n",
       "        (http://en.wikipedia.org/wiki/Probability_mass_function)"
      ]
     },
     "execution_count": 27,
     "metadata": {},
     "output_type": "execute_result"
    }
   ],
   "source": [
    "?DiscreteNonParametric"
   ]
  },
  {
   "cell_type": "code",
   "execution_count": 26,
   "metadata": {},
   "outputs": [
    {
     "data": {
      "text/plain": [
       "10-element Array{Severity,1}:\n",
       " Asymptomatic\n",
       " Severe\n",
       " Asymptomatic\n",
       " Severe\n",
       " Asymptomatic\n",
       " Asymptomatic\n",
       " Mild\n",
       " Asymptomatic\n",
       " Critical\n",
       " Asymptomatic"
      ]
     },
     "execution_count": 26,
     "metadata": {},
     "output_type": "execute_result"
    }
   ],
   "source": [
    "rand(Categorical(P), 10) .|> Severity"
   ]
  },
  {
   "cell_type": "code",
   "execution_count": 12,
   "metadata": {},
   "outputs": [],
   "source": [
    "abstract type AbstractEvent end\n",
    "\n",
    "abstract type DiseaseEvent <: AbstractEvent end\n",
    "abstract type InfectionEvent <: AbstractEvent end\n",
    "\n",
    "struct BecomeInfectiousEvent <: DiseaseEvent\n",
    "    time::Float32\n",
    "    subject_id::Int32\n",
    "end\n",
    "\n",
    "struct StayHomeMildEvent <: DiseaseEvent\n",
    "    time::Float32\n",
    "    subject_id::Int32\n",
    "end\n",
    "\n",
    "struct StayHomeToHospitalizeEvent <: DiseaseEvent\n",
    "    time::Float32\n",
    "    subject_id::Int32\n",
    "    time_to_hospitalize::Float32\n",
    "end\n",
    "\n",
    "struct GoHospitalEvent <: DiseaseEvent\n",
    "    time::Float32\n",
    "    subject_id::Int32\n",
    "end\n",
    "\n",
    "struct DeathEvent <: DiseaseEvent\n",
    "    time::Float32\n",
    "    subject_id::Int32\n",
    "end\n",
    "\n",
    "struct RecoveryEvent <: DiseaseEvent\n",
    "    time::Float32\n",
    "    subject_id::Int32\n",
    "end\n",
    "\n",
    "struct OutsideInfectionEvent <: InfectionEvent\n",
    "    time::Float32\n",
    "    subject_id::Int32\n",
    "end\n",
    "\n",
    "struct TransmissionEvent <: InfectionEvent\n",
    "    time::Float32\n",
    "    subject_id::Int32\n",
    "    source_id::Int32\n",
    "    kind::ContactKind\n",
    "end\n"
   ]
  },
  {
   "cell_type": "code",
   "execution_count": 24,
   "metadata": {},
   "outputs": [],
   "source": [
    "# the constant part of the simulation\n",
    "struct SimParams \n",
    "    individual_df::DataFrame    # the sampled population\n",
    "    household_df::DataFrame     # sampled households\n",
    "    progression_df::DataFrame   # sampled progression times\n",
    "   \n",
    "    constant_kernel_param::Float64\n",
    "    \n",
    "    dist_severity::Categorical\n",
    "    \n",
    "    dist_incubation_time::DiscreteNonParametric\n",
    "    dist_t0_to_t1::DiscreteNonParametric\n",
    "    dist_t0_to_t2::DiscreteNonParametric\n",
    "    dist_recovery::DiscreteNonParametric\n",
    "    \n",
    "    dist_death_prob::DiscreteNonParametric\n",
    "    dist_death_time::DiscreteNonParametric\n",
    "    \n",
    "end\n",
    "\n",
    "# the mutable part of the simulation\n",
    "mutable struct SimState\n",
    "    time::Float64\n",
    "    queue::BinaryHeap{AbstractEvent} # TODO change to union once all events are implemented\n",
    "    health_states::Vector{HealthState}\n",
    "    detected::BitVector\n",
    "    \n",
    "    infections::SortedSet{InfectionEvent} # TODO change to union \n",
    "    \n",
    "    num_dead::Int\n",
    "    num_affected::Int\n",
    "    num_detected::Int\n",
    "end"
   ]
  },
  {
   "cell_type": "code",
   "execution_count": 25,
   "metadata": {},
   "outputs": [
    {
     "data": {
      "text/plain": [
       "enqueue_transmissions! (generic function with 3 methods)"
      ]
     },
     "execution_count": 25,
     "metadata": {},
     "output_type": "execute_result"
    }
   ],
   "source": [
    "#function enqueue_transmissions!(state::SimState, ::Any, params::SimParams, source_id::Integer) = nothing\n",
    "    \n",
    "    \n",
    "function enqueue_transmissions!(state::SimState, ::Type{Val{ConstantKernelContact}}, source_id::Integer, params::SimParams)\n",
    "    progession = params.progression_df[person_id]\n",
    "\n",
    "    start_time = progressions.t0\n",
    "    end_time = missing == progressions.t1 ? progressions.t2 : progressions.t1\n",
    "        \n",
    "    time_dist = Uniform(start_time, end_time)\n",
    "    \n",
    "    total_infection_rate = (end_time - start_time) * param.constant_kernel_param\n",
    "    num_infections = random(Poisson(total_infection_rate))\n",
    "    \n",
    "    if num_infections == 0\n",
    "        return\n",
    "    end\n",
    "    \n",
    "    num_individuals = size(params.individual_df, 1)\n",
    "    selected_individuals = sample(num_individuals-1, num_infecitons) # exclude the source itself\n",
    "    \n",
    "    for subject_id in selected_individuals\n",
    "        if subject_id >= source_id # restore the indexing\n",
    "            subject_id +=1 \n",
    "        end\n",
    "        \n",
    "        if Healthy == subjecthealt(subject_id) \n",
    "            infection_time = rand(time_dist)\n",
    "            push!(state.queue, TransmissionEvent(infection_time, source_id, subject_id, ConstantKernelContact))\n",
    "        end\n",
    "    end\n",
    "end"
   ]
  },
  {
   "cell_type": "code",
   "execution_count": 9,
   "metadata": {},
   "outputs": [
    {
     "data": {
      "text/plain": [
       "isactive (generic function with 1 method)"
      ]
     },
     "execution_count": 9,
     "metadata": {},
     "output_type": "execute_result"
    }
   ],
   "source": [
    "isactive(state::HealthState) = (state == Infectious) || (state == StayingHome)"
   ]
  },
  {
   "cell_type": "code",
   "execution_count": 7,
   "metadata": {},
   "outputs": [
    {
     "data": {
      "text/plain": [
       "sourcehealth (generic function with 1 method)"
      ]
     },
     "execution_count": 7,
     "metadata": {},
     "output_type": "execute_result"
    }
   ],
   "source": [
    "time(event::AbstractEvent) = event.time \n",
    "isless(e1::AbstractEvent, e2::AbstractEvent) = time(e1) < time(e2)\n",
    "\n",
    "subject(event::AbstractEvent) = event.subject_id\n",
    "source(event::TransmissionEvent) = event.source_id\n",
    "\n",
    "health(state::SimState, person_id::Integer) = state.infection_status[person_id]\n",
    "\n",
    "subjecthealth(state::SimState, event::AbstractEvent) = health(state, subject(event))\n",
    "sourcehealth(state::SimState, event::TransmissionEvent) = health(state, source(event))"
   ]
  },
  {
   "cell_type": "code",
   "execution_count": null,
   "metadata": {},
   "outputs": [],
   "source": [
    "function register_infection(state::SimState, params::SimParams, subject_id::Integer, source_id::Integer, kind::ContactKind)\n",
    "    \n",
    "end"
   ]
  },
  {
   "cell_type": "code",
   "execution_count": 12,
   "metadata": {},
   "outputs": [
    {
     "data": {
      "text/plain": [
       "execute! (generic function with 6 methods)"
      ]
     },
     "execution_count": 12,
     "metadata": {},
     "output_type": "execute_result"
    }
   ],
   "source": [
    "function execute!(state::SimState, params::SimParams, event::OutsideInfectionEvent)\n",
    "    if Healthy == subjecthealth(state, event)\n",
    "        state.infection_status[event.person_id] = Infected\n",
    "        push!(state.infections, event)\n",
    "    end\n",
    "    push!(state.queue, BecomeInfectiousEvent(time(event)+rand(params.dist_incubation_time)))\n",
    "end\n",
    "\n",
    "function execute!(state::SimState, params::SimParams, event::TransmissionEvent)\n",
    "    if Healthy != subjecthealth(state, event) || !isactive(sourcehealth(event))\n",
    "        return\n",
    "    end\n",
    "    \n",
    "    if event.kind != HouseholdContact\n",
    "        if sourcehealth(event) != StayingHome \n",
    "            push!(state.infections, event)\n",
    "        end\n",
    "    else\n",
    "        push!(state.infections, event)\n",
    "    end\n",
    "    \n",
    "    # wait for incubation till becoming Infectious\n",
    "    push!(state.queue, \n",
    "        BecomeInfectiousEvent(\n",
    "            time(event) + rand(params.dist_incubation_time)),\n",
    "            subject(event)\n",
    "    )\n",
    "end\n",
    "\n",
    "function execute!(state::SimState, params::SimParams, event::BecomeInfectiousEvent)\n",
    "    @assert Infectious !== subjecthealth(state, event)\n",
    "    @assert Recovered !== subjecthealth(state, event)\n",
    "    state.infection_status[event.subject_id] = Infecitous\n",
    "    \n",
    "    subject_id = subject(event)\n",
    "    t0 = time(event)\n",
    "    t1 = rand(params.dist_t1)\n",
    "    t2 = rand(params.dist_t2)\n",
    "    \n",
    "    \n",
    "    severity = params.severity[subject(event)]\n",
    "    if Asymptomatic == severity\n",
    "        push!(state.queue, RecoveredyEvent(t0 + rand(params.dist_recovery), subject_id))\n",
    "    elseif Mild == severity\n",
    "        push!(state.queue, StayHomeMildEvent(t0 + rand(params.dist_t1), subject_id))\n",
    "    elseif Severe == severty || Critical == severity\n",
    "        t1 = rand(params.dist_t1)\n",
    "        t2 = rand(params.dist_t2)\n",
    "        if t1<t2\n",
    "            push!(state.queue, StayHomeToHospitalizeEvent(t0 + t1, subject_id, t2-t1))\n",
    "        end\n",
    "        push!(state.queue, GoHospitalEvent(t0+t2, subject_id))        \n",
    "    else\n",
    "        @error \"Unsupported severity $severity\"\n",
    "    end\n",
    "\n",
    "    enqueue_transmissions!(ConstantKernelContact, state, params, event.subject_id)\n",
    "    enqueue_transmissions!(HouseholdContact, state, params, event.subject_id)\n",
    "end\n",
    "\n",
    "function execute!(state::SimState, params::SimParams, event::StayHomeMildEvent)\n",
    "    if target_status == subjecthealth(state, event)\n",
    "        state.infection_status[event.subject_id] = StayHome\n",
    "    end\n",
    "    \n",
    "    push!(state.queue, RecoveryEvent(time(event) + 14))\n",
    "        \n",
    "end\n",
    "\n",
    "function execute!(state::SimState, params::SimParams, event::StayHomeToHospitalizeEvent)\n",
    "    if target_status == subjecthealth(state, event)\n",
    "        state.infection_status[event.subject_id] = StayHome\n",
    "    end\n",
    "    \n",
    "    push!(state.queue, GoHospitalEvent(time(event)+event.time_to_hospitalize, subject_id))\n",
    "end\n",
    "\n",
    "function execute!(state::SimState, params::SimParams, event::GoHospitalEvent)\n",
    "    person_health = subjecthealth(state, event)\n",
    "    if person_health == StayingHome || person_health == Infectious\n",
    "        state.infection_status[event.subject_id] = Hospitalized\n",
    "    end\n",
    "    \n",
    "    severity = params.severity[subject(event)]\n",
    "    if Severe == severity\n",
    "        push!(state.queue, RecoveryEvent(time(event)+14))\n",
    "    elseif Critical == severity\n",
    "        push!(state.queue, DeathEvent(time(event)+14))\n",
    "    end\n",
    "end\n",
    "\n",
    "function execute!(state::SimState, params::SimParams, event::RecoveryEvent)\n",
    "    @assert isactive(subjecthealth(event))\n",
    "    \n",
    "    state.infection_status[event.subject_id] = Recovered\n",
    "end\n",
    "\n",
    "function execute!(state::SimState, params::SimParams, event::DeathEvent)\n",
    "    @assert Recovered !== subjecthealth(event)\n",
    "    @assert Dead !== subjecthealth(event)\n",
    "\n",
    "    state.infection_status[event.subject_id] = Dead\n",
    "end"
   ]
  },
  {
   "cell_type": "code",
   "execution_count": 38,
   "metadata": {},
   "outputs": [
    {
     "data": {
      "text/latex": [
       "\\begin{tabular}\n",
       "{l | r | l}\n",
       "name & size & summary \\\\\n",
       "\\hline\n",
       "Base &  & Module \\\\\n",
       "Core &  & Module \\\\\n",
       "Main &  & Module \\\\\n",
       "df & 3.111 MiB & 636307×3 DataFrame \\\\\n",
       "\\end{tabular}\n"
      ],
      "text/markdown": [
       "| name |      size | summary            |\n",
       "|:---- | ---------:|:------------------ |\n",
       "| Base |           | Module             |\n",
       "| Core |           | Module             |\n",
       "| Main |           | Module             |\n",
       "| df   | 3.111 MiB | 636307×3 DataFrame |\n"
      ],
      "text/plain": [
       "  name      size summary           \n",
       "  –––– ––––––––– ––––––––––––––––––\n",
       "  Base           Module            \n",
       "  Core           Module            \n",
       "  Main           Module            \n",
       "  df   3.111 MiB 636307×3 DataFrame"
      ]
     },
     "execution_count": 38,
     "metadata": {},
     "output_type": "execute_result"
    }
   ],
   "source": [
    "function simulate!(state, params)\n",
    "    while true\n",
    "        if isempty(queue)\n",
    "            @info \"Empty queue\"\n",
    "            break\n",
    "        end\n",
    "        \n",
    "        event = pop!(state.event_queue)\n",
    "        if state.affected_people >= params.stop_simulation_threshold\n",
    "            @info \"The outbreak reached a high number $(params.stop_simulation_threshold)\"\n",
    "            break\n",
    "        else\n",
    "            event.time >= params.max_time\n",
    "            @info \"Max time reached\"\n",
    "            break\n",
    "        end\n",
    "        \n",
    "        state.global_time = time(event)\n",
    "        \n",
    "        execute!(state, params, event)\n",
    "    end\n",
    "end"
   ]
  },
  {
   "cell_type": "code",
   "execution_count": 11,
   "metadata": {},
   "outputs": [
    {
     "data": {
      "text/plain": [
       "OutsideInfectionEvent(1.2f0, 34)"
      ]
     },
     "metadata": {},
     "output_type": "display_data"
    },
    {
     "data": {
      "text/plain": [
       "TransmissionEvent(1.25f0, 100, 56, ConstantKernelContact)"
      ]
     },
     "metadata": {},
     "output_type": "display_data"
    },
    {
     "data": {
      "text/plain": [
       "OutsideInfectionEvent(1.3f0, 45)"
      ]
     },
     "metadata": {},
     "output_type": "display_data"
    }
   ],
   "source": [
    "\n",
    "h = DataStructures.BinaryHeap{AbstractEvent, DataStructures.LessThan}()\n",
    "push!(h, OutsideInfectionEvent(1.2, 34))\n",
    "push!(h, OutsideInfectionEvent(1.3, 45))\n",
    "push!(h, TransmissionEvent(1.25, 100, 56, ConstantKernelContact))\n",
    "\n",
    "pop!(h) |> display\n",
    "pop!(h) |> display\n",
    "pop!(h) |> display"
   ]
  },
  {
   "cell_type": "code",
   "execution_count": null,
   "metadata": {},
   "outputs": [],
   "source": []
  }
 ],
 "metadata": {
  "kernelspec": {
   "display_name": "Julia 1.4.0",
   "language": "julia",
   "name": "julia-1.4"
  },
  "language_info": {
   "file_extension": ".jl",
   "mimetype": "application/julia",
   "name": "julia",
   "version": "1.4.0"
  }
 },
 "nbformat": 4,
 "nbformat_minor": 4
}
