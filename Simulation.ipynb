{
 "cells": [
  {
   "cell_type": "code",
   "execution_count": 1,
   "metadata": {},
   "outputs": [
    {
     "data": {
      "text/plain": [
       "compare (generic function with 4 methods)"
      ]
     },
     "execution_count": 1,
     "metadata": {},
     "output_type": "execute_result"
    }
   ],
   "source": [
    "using CSV\n",
    "using DataFrames\n",
    "using DataStructures\n",
    "using Distributions\n",
    "using GZip\n",
    "using JSON\n",
    "using LinearAlgebra\n",
    "using Logging\n",
    "using NPZ\n",
    "using ProgressMeter\n",
    "using PyPlot\n",
    "using PyCall\n",
    "\n",
    "using Distributions\n",
    "using Random\n",
    "\n",
    "import DataStructures.compare\n",
    "\n",
    "include(\"julia/src/enums.jl\")\n",
    "include(\"julia/src/events.jl\")\n",
    "include(\"julia/src/event_execution.jl\")\n",
    "include(\"julia/src/utils.jl\")\n",
    "include(\"julia/src/data_loading.jl\")\n",
    "\n",
    "struct Earlier end\n",
    "compare(c::Earlier, x::AbstractEvent, y::AbstractEvent) = time(x) < time(y)"
   ]
  },
  {
   "cell_type": "code",
   "execution_count": 2,
   "metadata": {},
   "outputs": [],
   "source": [
    "struct Progression\n",
    "    severity::Severity\n",
    "    incubation_time::Float32\n",
    "    symptom_onset_time::Float32\n",
    "    hospitalization_time::Float32\n",
    "end"
   ]
  },
  {
   "cell_type": "code",
   "execution_count": 3,
   "metadata": {},
   "outputs": [
    {
     "data": {
      "text/plain": [
       "sample_progression (generic function with 1 method)"
      ]
     },
     "execution_count": 3,
     "metadata": {},
     "output_type": "execute_result"
    }
   ],
   "source": [
    "function sample_progression(rng, dist_severity, dist_incubation, dist_symptom_onset, dist_hospitalization)\n",
    "    severity = rand(rng, dist_severity) |> Severity\n",
    "    \n",
    "    incubation_time = rand(rng, dist_incubation)\n",
    "    symptom_onset_time = incubation_time + rand(rng, dist_symptom_onset)\n",
    "    hospitalization_time = NaN    \n",
    "    \n",
    "    if (severity==Severe) || (severity==Critical)\n",
    "        hospitalization_time = incubation_time + rand(dist_hospitalization)\n",
    "        if hospitalization_time < symptom_onset_time\n",
    "            symptom_onset_time = NaN\n",
    "        end\n",
    "    end\n",
    "    \n",
    "    Progression(\n",
    "        severity,\n",
    "        incubation_time,\n",
    "        symptom_onset_time,\n",
    "        hospitalization_time\n",
    "    )\n",
    "end"
   ]
  },
  {
   "cell_type": "code",
   "execution_count": 4,
   "metadata": {},
   "outputs": [],
   "source": [
    "# the constant part of the simulation\n",
    "struct SimParams \n",
    "    households::Vector{Int32}  # to be decided what it is - (list of pointers to the first member?)\n",
    "    \n",
    "    progressions::Vector{Progression}\n",
    "    \n",
    "    constant_kernel_param::Float64\n",
    "end\n",
    "\n",
    "# the mutable part of the simulation\n",
    "mutable struct SimState\n",
    "    time::Float64\n",
    "    queue::BinaryHeap{AbstractEvent, Earlier} # TODO change to union once all events are implemented\n",
    "    health_states::Vector{HealthState}\n",
    "    detected::BitVector\n",
    "    \n",
    "    infections::SortedMultiDict{Int32,AbstractInfectionEvent} # TODO change to union \n",
    "    \n",
    "    num_dead::Int\n",
    "    num_affected::Int\n",
    "    num_detected::Int\n",
    "    \n",
    "    SimState(num_individuals::Integer) = num_individuals<=0 ? error(\"number of individuals must be positive\") : \n",
    "        new(\n",
    "            0.0,\n",
    "            BinaryHeap{AbstractEvent, Earlier}(),\n",
    "            fill(Healthy, num_individuals),\n",
    "            falses(num_individuals),\n",
    "            SortedMultiDict{Int32,AbstractInfectionEvent}(),\n",
    "    \n",
    "            0,\n",
    "            0,\n",
    "            0\n",
    "        ) \n",
    "end"
   ]
  },
  {
   "cell_type": "code",
   "execution_count": null,
   "metadata": {},
   "outputs": [],
   "source": []
  },
  {
   "cell_type": "code",
   "execution_count": 5,
   "metadata": {},
   "outputs": [
    {
     "data": {
      "text/plain": [
       "SimState(0.0, BinaryHeap{AbstractEvent,Earlier}(Earlier(), AbstractEvent[]), HealthState[Healthy, Healthy, Healthy, Healthy, Healthy, Healthy, Healthy, Healthy, Healthy, Healthy  …  Healthy, Healthy, Healthy, Healthy, Healthy, Healthy, Healthy, Healthy, Healthy, Healthy], Bool[0, 0, 0, 0, 0, 0, 0, 0, 0, 0  …  0, 0, 0, 0, 0, 0, 0, 0, 0, 0], SortedMultiDict(Base.Order.ForwardOrdering(),), 0, 0, 0)"
      ]
     },
     "execution_count": 5,
     "metadata": {},
     "output_type": "execute_result"
    }
   ],
   "source": [
    "function initialize(rng=MersenneTwister();\n",
    "        population_path::AbstractString,\n",
    "        incubation_time_samples_path::AbstractString,\n",
    "        t0_to_t1_samples_path::AbstractString,\n",
    "        t0_to_t2_samples_path::AbstractString)\n",
    "    \n",
    "    individuals_df = load_individuals(population_path)\n",
    "    num_individuals = individuals_df |> nrow\n",
    "\n",
    "    dist_severity = Categorical([4/10, 3/10, 2/10, 1/10])\n",
    "    dist_incubation_time = load_dist_from_samples(incubation_time_samples_path)\n",
    "    dist_symptom_onset_time = load_dist_from_samples(t0_to_t1_samples_path)\n",
    "    dist_hospitalization_time = load_dist_from_samples(t0_to_t2_samples_path)\n",
    "\n",
    "    progression = 1:num_individuals .|> _ -> sample_progression(rng, \n",
    "        dist_severity, \n",
    "        dist_incubation_time, \n",
    "        dist_symptom_onset_time, \n",
    "        dist_hospitalization_time)\n",
    "    \n",
    "    households = 1:num_individuals |> collect #TODO\n",
    "    \n",
    "    params = SimParams(\n",
    "        households,\n",
    "        progression,        \n",
    "        1.0\n",
    "    )\n",
    "\n",
    "    params\n",
    "end\n",
    "\n",
    "\n",
    "\n",
    "params = initialize(\n",
    "    population_path=\"data/simulations/wroclaw-population-orig.csv.gz\", \n",
    "    incubation_time_samples_path=\"test/models/assets/incubation_period_distribution.npy\", \n",
    "    t0_to_t1_samples_path=\"test/models/assets/t1_distribution.npy\",\n",
    "    t0_to_t2_samples_path=\"test/models/assets/t1_t2_distribution.npy\")\n",
    "\n",
    "state = SimState(params.households |> length)"
   ]
  },
  {
   "cell_type": "code",
   "execution_count": 6,
   "metadata": {
    "scrolled": true
   },
   "outputs": [
    {
     "data": {
      "text/plain": [
       "\"test/models/assets/t1_t2_distribution.npy\""
      ]
     },
     "execution_count": 6,
     "metadata": {},
     "output_type": "execute_result"
    }
   ],
   "source": [
    "population_path = \"data/simulations/wroclaw-population-orig.csv.gz\"\n",
    "incubation_time_samples_path = \"test/models/assets/incubation_period_distribution.npy\"\n",
    "t0_to_t1_samples_path = \"test/models/assets/t1_distribution.npy\"\n",
    "t0_to_t2_samples_path = \"test/models/assets/t1_t2_distribution.npy\"\n"
   ]
  },
  {
   "cell_type": "code",
   "execution_count": 7,
   "metadata": {},
   "outputs": [
    {
     "data": {
      "text/plain": [
       "enqueue_transmissions! (generic function with 1 method)"
      ]
     },
     "execution_count": 7,
     "metadata": {},
     "output_type": "execute_result"
    }
   ],
   "source": [
    "#function enqueue_transmissions!(state::SimState, ::Any, params::SimParams, source_id::Integer) = nothing\n",
    "    \n",
    "    \n",
    "function enqueue_transmissions!(state::SimState, ::Type{Val{ConstantKernelContact}}, source_id::Integer, params::SimParams)\n",
    "    \n",
    "    t0 = incubation_times[source_id]\n",
    "    t1 = symptom_onset_times[source_id]\n",
    "    t2 = hospitalization_times[source_id]\n",
    "    \n",
    "    start_time = t0\n",
    "    end_time = isnan(t1) ? t2 : t1\n",
    "        \n",
    "    time_dist = Uniform(start_time, end_time)\n",
    "    \n",
    "    total_infection_rate = (end_time - start_time) * params.constant_kernel_param\n",
    "    num_infections = random(Poisson(total_infection_rate))\n",
    "    \n",
    "    if num_infections == 0\n",
    "        return\n",
    "    end\n",
    "    \n",
    "    num_individuals = size(params.individual_df, 1)\n",
    "    selected_individuals = sample(num_individuals-1, num_infecitons) # exclude the source itself\n",
    "    \n",
    "    for subject_id in selected_individuals\n",
    "        if subject_id >= source_id # restore the indexing\n",
    "            subject_id +=1 \n",
    "        end\n",
    "        \n",
    "        if Healthy == subjecthealt(subject_id) \n",
    "            infection_time = rand(time_dist)\n",
    "            push!(state.queue, TransmissionEvent(infection_time, source_id, subject_id, ConstantKernelContact))\n",
    "        end\n",
    "    end\n",
    "end"
   ]
  },
  {
   "cell_type": "code",
   "execution_count": 8,
   "metadata": {},
   "outputs": [],
   "source": [
    "#isactive(state::HealthState) = (state == Infectious) || (state == StayingHome)"
   ]
  },
  {
   "cell_type": "code",
   "execution_count": 9,
   "metadata": {},
   "outputs": [
    {
     "data": {
      "text/plain": [
       "sourcehealth (generic function with 1 method)"
      ]
     },
     "execution_count": 9,
     "metadata": {},
     "output_type": "execute_result"
    }
   ],
   "source": [
    "health(state::SimState, person_id::Integer) = state.infection_status[person_id]\n",
    "\n",
    "subjecthealth(state::SimState, event::AbstractEvent) = health(state, subject(event))\n",
    "sourcehealth(state::SimState, event::TransmissionEvent) = health(state, source(event))"
   ]
  },
  {
   "cell_type": "code",
   "execution_count": 17,
   "metadata": {},
   "outputs": [
    {
     "data": {
      "text/plain": [
       "simulate! (generic function with 1 method)"
      ]
     },
     "execution_count": 17,
     "metadata": {},
     "output_type": "execute_result"
    }
   ],
   "source": [
    "function simulate!(state, params)\n",
    "    while true\n",
    "        if isempty(queue)\n",
    "            @info \"Empty queue\"\n",
    "            break\n",
    "        end\n",
    "        \n",
    "        event = pop!(state.event_queue)\n",
    "        if state.affected_people >= params.stop_simulation_threshold\n",
    "            @info \"The outbreak reached a high number $(params.stop_simulation_threshold)\"\n",
    "            break\n",
    "        else\n",
    "            event.time >= params.max_time\n",
    "            @info \"Max time reached\"\n",
    "            break\n",
    "        end\n",
    "        \n",
    "        state.global_time = time(event)\n",
    "        \n",
    "        execute!(state, params, event)\n",
    "    end\n",
    "end"
   ]
  },
  {
   "cell_type": "code",
   "execution_count": 18,
   "metadata": {},
   "outputs": [
    {
     "data": {
      "text/plain": [
       "OutsideInfectionEvent(1.2f0, 34)"
      ]
     },
     "metadata": {},
     "output_type": "display_data"
    },
    {
     "data": {
      "text/plain": [
       "TransmissionEvent(1.25f0, 100, 56, ConstantKernelContact)"
      ]
     },
     "metadata": {},
     "output_type": "display_data"
    },
    {
     "data": {
      "text/plain": [
       "OutsideInfectionEvent(1.3f0, 45)"
      ]
     },
     "metadata": {},
     "output_type": "display_data"
    }
   ],
   "source": [
    "#h = DataStructures.BinaryHeap{AbstractEvent, DataStructures.LessThan}()\n",
    "h = DataStructures.BinaryHeap{AbstractEvent, Earlier}()\n",
    "push!(h, OutsideInfectionEvent(1.2, 34))\n",
    "push!(h, OutsideInfectionEvent(1.3, 45))\n",
    "push!(h, TransmissionEvent(1.25, 100, 56, ConstantKernelContact))\n",
    "\n",
    "pop!(h) |> display\n",
    "pop!(h) |> display\n",
    "pop!(h) |> display"
   ]
  },
  {
   "cell_type": "code",
   "execution_count": null,
   "metadata": {},
   "outputs": [],
   "source": []
  }
 ],
 "metadata": {
  "kernelspec": {
   "display_name": "Julia 1.4.0",
   "language": "julia",
   "name": "julia-1.4"
  },
  "language_info": {
   "file_extension": ".jl",
   "mimetype": "application/julia",
   "name": "julia",
   "version": "1.4.0"
  }
 },
 "nbformat": 4,
 "nbformat_minor": 4
}
