{
 "cells": [
  {
   "cell_type": "code",
   "execution_count": 53,
   "metadata": {},
   "outputs": [
    {
     "data": {
      "text/plain": [
       "execute! (generic function with 8 methods)"
      ]
     },
     "execution_count": 53,
     "metadata": {},
     "output_type": "execute_result"
    }
   ],
   "source": [
    "using CSV\n",
    "using DataFrames\n",
    "using DataStructures\n",
    "using Distributions\n",
    "using GZip\n",
    "using JSON\n",
    "using LinearAlgebra\n",
    "using Logging\n",
    "using NPZ\n",
    "using ProgressMeter\n",
    "using PyPlot\n",
    "using PyCall\n",
    "\n",
    "using Distributions\n",
    "using Random\n",
    "\n",
    "import DataStructures.compare\n",
    "\n",
    "include(\"julia/src/enums.jl\")\n",
    "include(\"julia/src/events.jl\")\n",
    "\n",
    "struct Earlier end\n",
    "compare(c::Earlier, x::AbstractEvent, y::AbstractEvent) = time(x) < time(y)\n",
    "\n",
    "include(\"julia/src/simstate.jl\")\n",
    "include(\"julia/src/progression.jl\")\n",
    "include(\"julia/src/simparams.jl\")\n",
    "\n",
    "\n",
    "include(\"julia/src/utils.jl\")\n",
    "include(\"julia/src/data_loading.jl\")\n",
    "\n",
    "include(\"julia/src/infection_kernels.jl\")\n",
    "\n",
    "include(\"julia/src/event_execution.jl\")\n"
   ]
  },
  {
   "cell_type": "code",
   "execution_count": 41,
   "metadata": {},
   "outputs": [
    {
     "data": {
      "text/plain": [
       "SimParams(Int32[1, 2, 3, 4, 5, 6, 7, 8, 9, 10  …  636298, 636299, 636300, 636301, 636302, 636303, 636304, 636305, 636306, 636307], Progression[Progression(Severe, 2.0f0, 3.25f0, 15.0f0), Progression(Asymptomatic, 8.0f0, 10.25f0, NaN32), Progression(Asymptomatic, 8.0f0, 17.25f0, NaN32), Progression(Critical, 3.0f0, 4.25f0, 7.0f0), Progression(Severe, 2.0f0, 2.25f0, 9.0f0), Progression(Mild, 2.0f0, 2.25f0, NaN32), Progression(Critical, 4.0f0, 5.25f0, 8.0f0), Progression(Asymptomatic, 4.0f0, 6.25f0, NaN32), Progression(Severe, 3.0f0, 4.25f0, 5.0f0), Progression(Mild, 1.0f0, 2.25f0, NaN32)  …  Progression(Asymptomatic, 7.0f0, 9.25f0, NaN32), Progression(Asymptomatic, 5.0f0, 5.25f0, NaN32), Progression(Severe, 6.0f0, NaN32, 6.5f0), Progression(Mild, 2.0f0, 2.25f0, NaN32), Progression(Mild, 4.0f0, 4.25f0, NaN32), Progression(Mild, 4.0f0, 6.25f0, NaN32), Progression(Critical, 2.0f0, 2.25f0, 2.5f0), Progression(Asymptomatic, 6.0f0, 6.25f0, NaN32), Progression(Asymptomatic, 3.0f0, 5.25f0, NaN32), Progression(Mild, 6.0f0, 6.25f0, NaN32)], 1.0)"
      ]
     },
     "execution_count": 41,
     "metadata": {},
     "output_type": "execute_result"
    }
   ],
   "source": [
    "function initialize(rng=MersenneTwister(0);\n",
    "        population_path::AbstractString,\n",
    "        incubation_time_samples_path::AbstractString,\n",
    "        t0_to_t1_samples_path::AbstractString,\n",
    "        t0_to_t2_samples_path::AbstractString)\n",
    "    \n",
    "    individuals_df = load_individuals(population_path)\n",
    "    num_individuals = individuals_df |> nrow\n",
    "\n",
    "    dist_severity = Categorical([4/10, 3/10, 2/10, 1/10])\n",
    "    dist_incubation_time = load_dist_from_samples(incubation_time_samples_path)\n",
    "    dist_symptom_onset_time = load_dist_from_samples(t0_to_t1_samples_path)\n",
    "    dist_hospitalization_time = load_dist_from_samples(t0_to_t2_samples_path)\n",
    "\n",
    "    progression = 1:num_individuals .|> _ -> sample_progression(rng, \n",
    "        dist_severity, \n",
    "        dist_incubation_time, \n",
    "        dist_symptom_onset_time, \n",
    "        dist_hospitalization_time)\n",
    "    \n",
    "    households = 1:num_individuals |> collect #TODO\n",
    "    \n",
    "    params = SimParams(\n",
    "        households,\n",
    "        progression,        \n",
    "        1.0,\n",
    "        \n",
    "    )\n",
    "\n",
    "    params\n",
    "end\n",
    "\n",
    "params = initialize(\n",
    "    population_path=\"data/simulations/wroclaw-population-orig.csv.gz\", \n",
    "    incubation_time_samples_path=\"test/models/assets/incubation_period_distribution.npy\", \n",
    "    t0_to_t1_samples_path=\"test/models/assets/t1_distribution.npy\",\n",
    "    t0_to_t2_samples_path=\"test/models/assets/t1_t2_distribution.npy\")\n",
    "\n",
    "\n"
   ]
  },
  {
   "cell_type": "code",
   "execution_count": null,
   "metadata": {},
   "outputs": [],
   "source": [
    "\n",
    "\n",
    "\n",
    "state = SimState(params.households |> length, seed=1024)\n",
    "\n",
    "push!(state.queue, OutsideInfectionEvent(0.0,1))\n",
    "\n",
    "@time for i in 1:10^10\n",
    "    if isempty(state.queue)\n",
    "        @info \"Empty queue\"\n",
    "        break\n",
    "    end\n",
    "\n",
    "    event = pop!(state.queue)\n",
    "    #event |> display\n",
    "    \n",
    "    state.time = time(event)\n",
    "\n",
    "    execute!(state, params, event)\n",
    "end\n"
   ]
  },
  {
   "cell_type": "code",
   "execution_count": 23,
   "metadata": {},
   "outputs": [
    {
     "data": {
      "text/plain": [
       "5"
      ]
     },
     "execution_count": 23,
     "metadata": {},
     "output_type": "execute_result"
    }
   ],
   "source": [
    "sample(MersenneTwister(), 1:5)"
   ]
  },
  {
   "cell_type": "code",
   "execution_count": 5,
   "metadata": {},
   "outputs": [
    {
     "data": {
      "text/plain": [
       "true"
      ]
     },
     "execution_count": 5,
     "metadata": {},
     "output_type": "execute_result"
    }
   ],
   "source": [
    "nothing == nothing"
   ]
  },
  {
   "cell_type": "code",
   "execution_count": 6,
   "metadata": {},
   "outputs": [
    {
     "data": {
      "text/plain": [
       "simulate! (generic function with 1 method)"
      ]
     },
     "execution_count": 6,
     "metadata": {},
     "output_type": "execute_result"
    }
   ],
   "source": [
    "function simulate!(state, params)\n",
    "    while true\n",
    "        if isempty(queue)\n",
    "            @info \"Empty queue\"\n",
    "            break\n",
    "        end\n",
    "        \n",
    "        event = pop!(state.queue)\n",
    "        if state.affected_people >= params.stop_simulation_threshold\n",
    "            @info \"The outbreak reached a high number $(params.stop_simulation_threshold)\"\n",
    "            break\n",
    "        else\n",
    "            event.time >= params.max_time\n",
    "            @info \"Max time reached\"\n",
    "            break\n",
    "        end\n",
    "        \n",
    "        state.time = time(event)\n",
    "        \n",
    "        execute!(state, params, event)\n",
    "    end\n",
    "end"
   ]
  },
  {
   "cell_type": "code",
   "execution_count": null,
   "metadata": {},
   "outputs": [],
   "source": []
  },
  {
   "cell_type": "code",
   "execution_count": 7,
   "metadata": {},
   "outputs": [
    {
     "data": {
      "text/plain": [
       "OutsideInfectionEvent(1.2f0, 34)"
      ]
     },
     "metadata": {},
     "output_type": "display_data"
    },
    {
     "data": {
      "text/plain": [
       "TransmissionEvent(1.25f0, 100, 56, ConstantKernelContact)"
      ]
     },
     "metadata": {},
     "output_type": "display_data"
    },
    {
     "data": {
      "text/plain": [
       "OutsideInfectionEvent(1.3f0, 45)"
      ]
     },
     "metadata": {},
     "output_type": "display_data"
    }
   ],
   "source": [
    "#h = DataStructures.BinaryHeap{AbstractEvent, DataStructures.LessThan}()\n",
    "h = DataStructures.BinaryHeap{AbstractEvent, Earlier}()\n",
    "push!(h, OutsideInfectionEvent(1.2, 34))\n",
    "push!(h, OutsideInfectionEvent(1.3, 45))\n",
    "push!(h, TransmissionEvent(1.25, 100, 56, ConstantKernelContact))\n",
    "\n",
    "pop!(h) |> display\n",
    "pop!(h) |> display\n",
    "pop!(h) |> display"
   ]
  },
  {
   "cell_type": "code",
   "execution_count": null,
   "metadata": {},
   "outputs": [],
   "source": []
  }
 ],
 "metadata": {
  "kernelspec": {
   "display_name": "Julia 1.4.0",
   "language": "julia",
   "name": "julia-1.4"
  },
  "language_info": {
   "file_extension": ".jl",
   "mimetype": "application/julia",
   "name": "julia",
   "version": "1.4.0"
  }
 },
 "nbformat": 4,
 "nbformat_minor": 4
}
