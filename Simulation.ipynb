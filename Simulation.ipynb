{
 "cells": [
  {
   "cell_type": "code",
   "execution_count": 257,
   "metadata": {},
   "outputs": [
    {
     "name": "stderr",
     "output_type": "stream",
     "text": [
      "WARNING: replacing module Simulation.\n"
     ]
    },
    {
     "data": {
      "text/plain": [
       "Main.Simulation"
      ]
     },
     "execution_count": 257,
     "metadata": {},
     "output_type": "execute_result"
    }
   ],
   "source": [
    "include(\"julia/src/Simulation.jl\") # might need some time to compile"
   ]
  },
  {
   "cell_type": "code",
   "execution_count": 258,
   "metadata": {},
   "outputs": [
    {
     "data": {
      "text/plain": [
       "Main.Simulation.Progression(Main.Simulation.Severe, 9.0f0, 13.25f0, 15.0f0)"
      ]
     },
     "metadata": {},
     "output_type": "display_data"
    },
    {
     "data": {
      "text/plain": [
       "(1, 1)"
      ]
     },
     "metadata": {},
     "output_type": "display_data"
    }
   ],
   "source": [
    "using Random\n",
    "#loads and pre-processes data that is constant during the simulation time\n",
    "params = Simulation.load_params(\n",
    "    MersenneTwister(3),\n",
    "    population_path=\"data/simulations/wroclaw-population-orig.csv.gz\", \n",
    "    incubation_time_samples_path=\"test/models/assets/incubation_period_distribution.npy\", \n",
    "    t0_to_t1_samples_path=\"test/models/assets/t1_distribution.npy\",\n",
    "    t0_to_t2_samples_path=\"test/models/assets/t1_t2_distribution.npy\");\n",
    "\n",
    "params.progressions[1] |> display\n",
    "params.household_ptrs[1] |> display"
   ]
  },
  {
   "cell_type": "code",
   "execution_count": 260,
   "metadata": {},
   "outputs": [
    {
     "name": "stdout",
     "output_type": "stream",
     "text": [
      " 22.754214 seconds (16.09 M allocations: 383.359 MiB)\n"
     ]
    },
    {
     "name": "stderr",
     "output_type": "stream",
     "text": [
      "┌ Info: Empty queue after 2731681 events \n",
      "└ @ Main.Simulation /Users/tomek/modelling-ncov2019/julia/src/Simulation.jl:72\n"
     ]
    }
   ],
   "source": [
    "## creates mutable simulation state\n",
    "state = Simulation.SimState(params.progressions |> length, seed=123)\n",
    "\n",
    "# add initial event (infect the person no1 at time 0)\n",
    "push!(state.queue, Simulation.OutsideInfectionEvent(0.0,1))\n",
    "# (the first person must be infectious for significant amount of time for the epidemics to kick off)\n",
    "\n",
    "# the first run includes compilation time, run twice to get meaningful results (precompilation will be added soon)\n",
    "@time Simulation.simulate!(state, params)\n"
   ]
  },
  {
   "cell_type": "code",
   "execution_count": 279,
   "metadata": {
    "scrolled": true
   },
   "outputs": [
    {
     "data": {
      "text/plain": [
       "Main.Simulation.TransmissionEvent(18.69558f0, 491936, 1, Main.Simulation.ConstantKernelContact)"
      ]
     },
     "execution_count": 279,
     "metadata": {},
     "output_type": "execute_result"
    }
   ],
   "source": [
    "using DataStructures\n",
    "i1, i2 = searchequalrange(state.infections, 1)\n",
    "state.infections[i1]\n"
   ]
  }
 ],
 "metadata": {
  "kernelspec": {
   "display_name": "Julia 1.4.0",
   "language": "julia",
   "name": "julia-1.4"
  },
  "language_info": {
   "file_extension": ".jl",
   "mimetype": "application/julia",
   "name": "julia",
   "version": "1.4.0"
  }
 },
 "nbformat": 4,
 "nbformat_minor": 4
}
