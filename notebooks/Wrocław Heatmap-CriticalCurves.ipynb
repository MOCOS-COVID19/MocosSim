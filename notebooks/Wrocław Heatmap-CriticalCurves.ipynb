version https://git-lfs.github.com/spec/v1
oid sha256:4ccf97ac8dc2704fdafac9ff507d62a4d12189848fc0005d2f1e9d4d11c03f4b
size 1246485
